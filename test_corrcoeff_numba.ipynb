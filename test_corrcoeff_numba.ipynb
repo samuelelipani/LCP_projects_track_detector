{
  "nbformat": 4,
  "nbformat_minor": 0,
  "metadata": {
    "colab": {
      "name": "test_cose.ipynb",
      "provenance": []
    },
    "kernelspec": {
      "name": "python3",
      "display_name": "Python 3"
    }
  },
  "cells": [
    {
      "cell_type": "code",
      "metadata": {
        "id": "zyGT3-B36uOY"
      },
      "source": [
        "import numpy as np \r\n",
        "import numba\r\n",
        "import timeit \r\n",
        "import matplotlib.pyplot as plt"
      ],
      "execution_count": 2,
      "outputs": []
    },
    {
      "cell_type": "code",
      "metadata": {
        "colab": {
          "base_uri": "https://localhost:8080/",
          "height": 265
        },
        "id": "XiKGRFKc7p3P",
        "outputId": "2c51863c-1600-45d6-ca48-4f855b6a1c75"
      },
      "source": [
        "x = np.array([1,2,3,4])\r\n",
        "y = 2*x + np.random.randn(x.shape[0])\r\n",
        "plt.scatter(x,y);\r\n",
        "plt.plot(x,y);"
      ],
      "execution_count": 9,
      "outputs": [
        {
          "output_type": "display_data",
          "data": {
            "image/png": "[encoded data removed]",
            "text/plain": [
              "<Figure size 432x288 with 1 Axes>"
            ]
          },
          "metadata": {
            "tags": [],
            "needs_background": "light"
          }
        }
      ]
    },
    {
      "cell_type": "code",
      "metadata": {
        "colab": {
          "base_uri": "https://localhost:8080/"
        },
        "id": "tpdl6KdC65oW",
        "outputId": "b5f25947-d2f3-4c72-93a3-260e501ba006"
      },
      "source": [
        "r = np.corrcoef(x,y)[0,1]\r\n",
        "print(r)"
      ],
      "execution_count": 11,
      "outputs": [
        {
          "output_type": "stream",
          "text": [
            "0.9815188895642739\n"
          ],
          "name": "stdout"
        }
      ]
    },
    {
      "cell_type": "code",
      "metadata": {
        "id": "88cyeuLZ8Uqf"
      },
      "source": [
        "n = 10 #n_samples\r\n",
        "X = np.random.randn(n,4)\r\n",
        "Y = X + np.random.randn(n,4)"
      ],
      "execution_count": 12,
      "outputs": []
    },
    {
      "cell_type": "code",
      "metadata": {
        "colab": {
          "base_uri": "https://localhost:8080/",
          "height": 265
        },
        "id": "ClL0sklr9Jbx",
        "outputId": "e0feb1ae-f771-4fa9-fdbb-baae297e5977"
      },
      "source": [
        "plt.scatter(X[0],Y[0]);\r\n",
        "#plt.plot(X[0],Y[0]);"
      ],
      "execution_count": 16,
      "outputs": [
        {
          "output_type": "display_data",
          "data": {
            "image/png": "[encoded data removed]",
            "text/plain": [
              "<Figure size 432x288 with 1 Axes>"
            ]
          },
          "metadata": {
            "tags": [],
            "needs_background": "light"
          }
        }
      ]
    },
    {
      "cell_type": "code",
      "metadata": {
        "colab": {
          "base_uri": "https://localhost:8080/"
        },
        "id": "yeKmhiys8wLN",
        "outputId": "9c11ae53-52a8-45ed-a485-87c9069d5c61"
      },
      "source": [
        "r = np.zeros(n)\r\n",
        "\r\n",
        "for i in np.arange(n) :\r\n",
        "    r[i] = np.corrcoef(X[i],Y[i])[0,1]\r\n",
        "\r\n",
        "print(r)"
      ],
      "execution_count": 17,
      "outputs": [
        {
          "output_type": "stream",
          "text": [
            "[ 0.83901363  0.86863228 -0.32836783  0.97816023  0.92389952  0.965257\n",
            " -0.02311507  0.80591044  0.65981279  0.4537276 ]\n"
          ],
          "name": "stdout"
        }
      ]
    },
    {
      "cell_type": "code",
      "metadata": {
        "id": "bCajwyw29rxY"
      },
      "source": [
        "def corrcoef_n_samples(X,Y) :\r\n",
        "    #X e Y devono essere array di tipo (n,4): ogni riga è uno degli n samples di cui vogliamo valutare il coefficiente di correlazione lineare e le colonne sono 4 perché nel nostro caso ogni sample è\r\n",
        "    #costituito da 4 elementi (inutile fare una cosa più generale)\r\n",
        "    if X.shape != Y.shape :\r\n",
        "        print(\"X.shape and Y.shape don't match\")\r\n",
        "        return None\r\n",
        "    r = np.zeros(X.shape[0])\r\n",
        "    for i in range(X.shape[0]) : #potrei mettere range(16) qui ma se ho dei casi con solo 3 layers attivi le combinazioni saranno meno di 16. Se questi casi in realtà non ci sono si può mettere 16 e basta\r\n",
        "        r[i] = np.corrcoef(X[i],Y[i])[0,1]\r\n",
        "    return r"
      ],
      "execution_count": 38,
      "outputs": []
    },
    {
      "cell_type": "code",
      "metadata": {
        "colab": {
          "base_uri": "https://localhost:8080/"
        },
        "id": "vN4emwcf_CCq",
        "outputId": "d56d57e6-617a-411b-cfe1-88625dc936ec"
      },
      "source": [
        "R = corrcoef_n_samples(X,Y)\r\n",
        "print(R)\r\n",
        "print(np.abs(R).argmax())"
      ],
      "execution_count": 29,
      "outputs": [
        {
          "output_type": "stream",
          "text": [
            "[ 0.83901363  0.86863228 -0.32836783  0.97816023  0.92389952  0.965257\n",
            " -0.02311507  0.80591044  0.65981279  0.4537276 ]\n",
            "3\n"
          ],
          "name": "stdout"
        }
      ]
    },
    {
      "cell_type": "code",
      "metadata": {
        "id": "NYjgQol8_obO"
      },
      "source": [
        "def find_best_alignment(X,Y) :\r\n",
        "    if X.shape != Y.shape :\r\n",
        "        print(\"X.shape and Y.shape don't match\")\r\n",
        "        return None \r\n",
        "    r = np.zeros(X.shape[0])\r\n",
        "    for i in range(X.shape[0]) :\r\n",
        "        r[i] = np.corrcoef(X[i],Y[i])[0,1]\r\n",
        "    return X[np.abs(r).argmax()]"
      ],
      "execution_count": 43,
      "outputs": []
    },
    {
      "cell_type": "code",
      "metadata": {
        "colab": {
          "base_uri": "https://localhost:8080/"
        },
        "id": "BUu8cZ9X_4LD",
        "outputId": "93561b1e-d71d-4c5c-a5de-9a80c490705b"
      },
      "source": [
        "b = find_best_alignment(X,Y)\r\n",
        "print(b)"
      ],
      "execution_count": 33,
      "outputs": [
        {
          "output_type": "stream",
          "text": [
            "[-2.62057169 -0.74982884  0.12471298  1.43601209]\n"
          ],
          "name": "stdout"
        }
      ]
    },
    {
      "cell_type": "code",
      "metadata": {
        "id": "bo5_BgHYAl_D"
      },
      "source": [
        "#immaginiamo di dover effettuare l'operazione di cui sopra (trovare la quaterna migliore su 16 candidati) un certo numero di volte (uno per evento da valutare, sarebbe). Valutiamo le prestazioni di questa situazione\r\n",
        "def benchmark_find_best_alignment(n_events=100) :\r\n",
        "    X = np.random.randn(n_events,16,4) #così ho un array di n_events arrays, ciascuno dei quali è 16x4\r\n",
        "    Y = 2*X + 0.1*np.random.randn(n_events,16,4) #dati correlati circa linearmente. Dovrei fare un sorting per poterli rappresentare ma non mi interessa, mi basta avere le varie coppie (x,y)\r\n",
        "\r\n",
        "    for i in range(n_events) :\r\n",
        "        find_best_alignment(X[i],Y[i]) #sto passando l'evento i, composto da 16 array di 4 elementi ciascuno\r\n",
        "        #non mi serve fare un return visto che qua sto solo simulando df.groupby(..).apply(find_best_alignment)"
      ],
      "execution_count": 39,
      "outputs": []
    },
    {
      "cell_type": "code",
      "metadata": {
        "colab": {
          "base_uri": "https://localhost:8080/"
        },
        "id": "3r6kwjFEL2MA",
        "outputId": "12f2e50d-a21c-4324-a74d-18cb047467f3"
      },
      "source": [
        "%timeit benchmark_find_best_alignment()"
      ],
      "execution_count": 41,
      "outputs": [
        {
          "output_type": "stream",
          "text": [
            "10 loops, best of 3: 134 ms per loop\n"
          ],
          "name": "stdout"
        }
      ]
    },
    {
      "cell_type": "code",
      "metadata": {
        "id": "aCYqvS53S4av"
      },
      "source": [
        "@numba.jit(nopython=True,parallel=True)\r\n",
        "def find_best_alignment_numba(X,Y) : #è uguale a quella di prima ma ho cambiato il nome per tenere distinti i benchmark\r\n",
        "    if X.shape != Y.shape :\r\n",
        "        print(\"X.shape and Y.shape don't match\")\r\n",
        "        return None \r\n",
        "    r = np.zeros(X.shape[0])\r\n",
        "    for i in range(X.shape[0]) :\r\n",
        "        r[i] = np.corrcoef(X[i],Y[i])[0,1]\r\n",
        "    return X[np.abs(r).argmax()]"
      ],
      "execution_count": 47,
      "outputs": []
    },
    {
      "cell_type": "code",
      "metadata": {
        "id": "P321HHQ1TKaC"
      },
      "source": [
        "#immaginiamo di dover effettuare l'operazione di cui sopra (trovare la quaterna migliore su 16 candidati) un certo numero di volte (uno per evento da valutare, sarebbe). Valutiamo le prestazioni di questa situazione\r\n",
        "def benchmark_find_best_alignment_numba(n_events=100) :\r\n",
        "    X = np.random.randn(n_events,16,4) #così ho un array di n_events arrays, ciascuno dei quali è 16x4\r\n",
        "    Y = 2*X + 0.1*np.random.randn(n_events,16,4) #dati correlati circa linearmente. Dovrei fare un sorting per poterli rappresentare ma non mi interessa, mi basta avere le varie coppie (x,y)\r\n",
        "\r\n",
        "    for i in range(n_events) :\r\n",
        "        find_best_alignment_numba(X[i],Y[i]) #sto passando l'evento i, composto da 16 array di 4 elementi ciascuno\r\n",
        "        #non mi serve fare un return visto che qua sto solo simulando df.groupby(..).apply(find_best_alignment)"
      ],
      "execution_count": 48,
      "outputs": []
    },
    {
      "cell_type": "code",
      "metadata": {
        "colab": {
          "base_uri": "https://localhost:8080/"
        },
        "id": "I-5CxEJpTrHz",
        "outputId": "71f5c1f0-a33a-4a97-8089-0114aba2ca86"
      },
      "source": [
        "!pip install --upgrade tbb"
      ],
      "execution_count": 50,
      "outputs": [
        {
          "output_type": "stream",
          "text": [
            "Collecting tbb\n",
            "\u001b[?25l  Downloading https://files.pythonhosted.org/packages/75/32/e61365e17c06472af757b8c81de139cfbcaa66eec21360ebc3fb946dc839/tbb-2021.1.1-py2.py3-none-manylinux1_x86_64.whl (3.6MB)\n",
            "\u001b[K     |████████████████████████████████| 3.6MB 5.5MB/s \n",
            "\u001b[?25hInstalling collected packages: tbb\n",
            "Successfully installed tbb-2021.1.1\n"
          ],
          "name": "stdout"
        }
      ]
    },
    {
      "cell_type": "code",
      "metadata": {
        "colab": {
          "base_uri": "https://localhost:8080/"
        },
        "id": "vaP66qZaTSGH",
        "outputId": "7e4e8831-28c8-499b-8b40-722a79f36565"
      },
      "source": [
        "%timeit benchmark_find_best_alignment_numba()"
      ],
      "execution_count": 51,
      "outputs": [
        {
          "output_type": "stream",
          "text": [
            "100 loops, best of 3: 5.48 ms per loop\n"
          ],
          "name": "stdout"
        }
      ]
    },
    {
      "cell_type": "code",
      "metadata": {
        "colab": {
          "base_uri": "https://localhost:8080/"
        },
        "id": "T8EecO19T5-M",
        "outputId": "4ff57e06-fb3e-4a0c-cb5e-46a86c17159d"
      },
      "source": [
        "N = 1000\r\n",
        "%timeit benchmark_find_best_alignment(n_events=N)\r\n",
        "%timeit benchmark_find_best_alignment_numba(n_events=N)"
      ],
      "execution_count": 52,
      "outputs": [
        {
          "output_type": "stream",
          "text": [
            "1 loop, best of 3: 1.36 s per loop\n",
            "10 loops, best of 3: 55 ms per loop\n"
          ],
          "name": "stdout"
        }
      ]
    },
    {
      "cell_type": "code",
      "metadata": {
        "colab": {
          "base_uri": "https://localhost:8080/"
        },
        "id": "5-5PmNcPULIy",
        "outputId": "9dbbc173-2f17-4ada-b64f-c4a590001468"
      },
      "source": [
        "N = 100000\r\n",
        "%timeit benchmark_find_best_alignment(n_events=N)\r\n",
        "%timeit benchmark_find_best_alignment_numba(n_events=N)"
      ],
      "execution_count": 53,
      "outputs": [
        {
          "output_type": "stream",
          "text": [
            "1 loop, best of 3: 2min 16s per loop\n",
            "1 loop, best of 3: 5.39 s per loop\n"
          ],
          "name": "stdout"
        }
      ]
    },
    {
      "cell_type": "code",
      "metadata": {
        "colab": {
          "base_uri": "https://localhost:8080/"
        },
        "id": "ccTbWoarKtW5",
        "outputId": "580c5761-c8bb-4196-ecbd-03de5d40e835"
      },
      "source": [
        "c = np.zeros((2,16,4))\r\n",
        "print(c)"
      ],
      "execution_count": 36,
      "outputs": [
        {
          "output_type": "stream",
          "text": [
            "[[[0. 0. 0. 0.]\n",
            "  [0. 0. 0. 0.]\n",
            "  [0. 0. 0. 0.]\n",
            "  [0. 0. 0. 0.]\n",
            "  [0. 0. 0. 0.]\n",
            "  [0. 0. 0. 0.]\n",
            "  [0. 0. 0. 0.]\n",
            "  [0. 0. 0. 0.]\n",
            "  [0. 0. 0. 0.]\n",
            "  [0. 0. 0. 0.]\n",
            "  [0. 0. 0. 0.]\n",
            "  [0. 0. 0. 0.]\n",
            "  [0. 0. 0. 0.]\n",
            "  [0. 0. 0. 0.]\n",
            "  [0. 0. 0. 0.]\n",
            "  [0. 0. 0. 0.]]\n",
            "\n",
            " [[0. 0. 0. 0.]\n",
            "  [0. 0. 0. 0.]\n",
            "  [0. 0. 0. 0.]\n",
            "  [0. 0. 0. 0.]\n",
            "  [0. 0. 0. 0.]\n",
            "  [0. 0. 0. 0.]\n",
            "  [0. 0. 0. 0.]\n",
            "  [0. 0. 0. 0.]\n",
            "  [0. 0. 0. 0.]\n",
            "  [0. 0. 0. 0.]\n",
            "  [0. 0. 0. 0.]\n",
            "  [0. 0. 0. 0.]\n",
            "  [0. 0. 0. 0.]\n",
            "  [0. 0. 0. 0.]\n",
            "  [0. 0. 0. 0.]\n",
            "  [0. 0. 0. 0.]]]\n"
          ],
          "name": "stdout"
        }
      ]
    }
  ]
}
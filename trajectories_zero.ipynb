{
 "metadata": {
  "language_info": {
   "codemirror_mode": {
    "name": "ipython",
    "version": 3
   },
   "file_extension": ".py",
   "mimetype": "text/x-python",
   "name": "python",
   "nbconvert_exporter": "python",
   "pygments_lexer": "ipython3",
   "version": "3.8.6-final"
  },
  "orig_nbformat": 2,
  "kernelspec": {
   "name": "python3",
   "display_name": "Python 3",
   "language": "python"
  }
 },
 "nbformat": 4,
 "nbformat_minor": 2,
 "cells": [
  {
   "cell_type": "code",
   "execution_count": 1,
   "metadata": {},
   "outputs": [],
   "source": [
    "import numpy as np \n",
    "import pandas as pd \n",
    "import time \n",
    "import timeit \n",
    "import matplotlib.pyplot as plt\n",
    "import matplotlib.patches as patches\n",
    "from scipy.stats import linregress\n",
    "from itertools import combinations, permutations"
   ]
  },
  {
   "cell_type": "code",
   "execution_count": 2,
   "metadata": {},
   "outputs": [
    {
     "output_type": "display_data",
     "data": {
      "text/plain": "       TDC_CHANNEL     ORBIT_CNT  BX_COUNTER  TDC_MEAS          TIME  \\\n0             13.0  1.897417e+09       445.0      24.0  11145.000000   \n1             14.0  1.897417e+09       450.0       9.0  11257.500000   \n2             16.0  1.897417e+09       452.0      17.0  11314.166667   \n3             15.0  1.897417e+09       458.0       9.0  11457.500000   \n4             89.0  1.897417e+09       300.0      27.0   7522.500000   \n...            ...           ...         ...       ...           ...   \n97852         19.0  1.920940e+09      1449.0       2.0  36226.666667   \n97853         55.0  1.920940e+09       325.0       4.0   8128.333333   \n97854         56.0  1.920940e+09       327.0      22.0   8193.333333   \n97855         54.0  1.920940e+09       331.0      20.0   8291.666667   \n97856         53.0  1.920940e+09       334.0      15.0   8362.500000   \n\n       DETECTOR  LAYER  TIME_PEDESTAL  DRIFT_TIME          X  COLUMN  \n0           3.0    4.0        11350.0  205.000000  11.038462       4  \n1           3.0    2.0        11350.0   92.500000   4.980769       4  \n2           3.0    1.0        11350.0   35.833333   1.929487       4  \n3           3.0    3.0        11350.0  107.500000   5.788462       4  \n4           2.0    4.0         7825.0  302.500000  16.288462       7  \n...         ...    ...            ...         ...        ...     ...  \n97852       3.0    3.0        36075.0  151.666667   8.166667       5  \n97853       3.0    3.0         8225.0   96.666667   5.205128      14  \n97854       3.0    1.0         8225.0   31.666667   1.705128      14  \n97855       3.0    2.0         8225.0   66.666667   3.589744      14  \n97856       3.0    4.0         8225.0  137.500000   7.403846      14  \n\n[97857 rows x 11 columns]",
      "text/html": "<div>\n<style scoped>\n    .dataframe tbody tr th:only-of-type {\n        vertical-align: middle;\n    }\n\n    .dataframe tbody tr th {\n        vertical-align: top;\n    }\n\n    .dataframe thead th {\n        text-align: right;\n    }\n</style>\n<table border=\"1\" class=\"dataframe\">\n  <thead>\n    <tr style=\"text-align: right;\">\n      <th></th>\n      <th>TDC_CHANNEL</th>\n      <th>ORBIT_CNT</th>\n      <th>BX_COUNTER</th>\n      <th>TDC_MEAS</th>\n      <th>TIME</th>\n      <th>DETECTOR</th>\n      <th>LAYER</th>\n      <th>TIME_PEDESTAL</th>\n      <th>DRIFT_TIME</th>\n      <th>X</th>\n      <th>COLUMN</th>\n    </tr>\n  </thead>\n  <tbody>\n    <tr>\n      <th>0</th>\n      <td>13.0</td>\n      <td>1.897417e+09</td>\n      <td>445.0</td>\n      <td>24.0</td>\n      <td>11145.000000</td>\n      <td>3.0</td>\n      <td>4.0</td>\n      <td>11350.0</td>\n      <td>205.000000</td>\n      <td>11.038462</td>\n      <td>4</td>\n    </tr>\n    <tr>\n      <th>1</th>\n      <td>14.0</td>\n      <td>1.897417e+09</td>\n      <td>450.0</td>\n      <td>9.0</td>\n      <td>11257.500000</td>\n      <td>3.0</td>\n      <td>2.0</td>\n      <td>11350.0</td>\n      <td>92.500000</td>\n      <td>4.980769</td>\n      <td>4</td>\n    </tr>\n    <tr>\n      <th>2</th>\n      <td>16.0</td>\n      <td>1.897417e+09</td>\n      <td>452.0</td>\n      <td>17.0</td>\n      <td>11314.166667</td>\n      <td>3.0</td>\n      <td>1.0</td>\n      <td>11350.0</td>\n      <td>35.833333</td>\n      <td>1.929487</td>\n      <td>4</td>\n    </tr>\n    <tr>\n      <th>3</th>\n      <td>15.0</td>\n      <td>1.897417e+09</td>\n      <td>458.0</td>\n      <td>9.0</td>\n      <td>11457.500000</td>\n      <td>3.0</td>\n      <td>3.0</td>\n      <td>11350.0</td>\n      <td>107.500000</td>\n      <td>5.788462</td>\n      <td>4</td>\n    </tr>\n    <tr>\n      <th>4</th>\n      <td>89.0</td>\n      <td>1.897417e+09</td>\n      <td>300.0</td>\n      <td>27.0</td>\n      <td>7522.500000</td>\n      <td>2.0</td>\n      <td>4.0</td>\n      <td>7825.0</td>\n      <td>302.500000</td>\n      <td>16.288462</td>\n      <td>7</td>\n    </tr>\n    <tr>\n      <th>...</th>\n      <td>...</td>\n      <td>...</td>\n      <td>...</td>\n      <td>...</td>\n      <td>...</td>\n      <td>...</td>\n      <td>...</td>\n      <td>...</td>\n      <td>...</td>\n      <td>...</td>\n      <td>...</td>\n    </tr>\n    <tr>\n      <th>97852</th>\n      <td>19.0</td>\n      <td>1.920940e+09</td>\n      <td>1449.0</td>\n      <td>2.0</td>\n      <td>36226.666667</td>\n      <td>3.0</td>\n      <td>3.0</td>\n      <td>36075.0</td>\n      <td>151.666667</td>\n      <td>8.166667</td>\n      <td>5</td>\n    </tr>\n    <tr>\n      <th>97853</th>\n      <td>55.0</td>\n      <td>1.920940e+09</td>\n      <td>325.0</td>\n      <td>4.0</td>\n      <td>8128.333333</td>\n      <td>3.0</td>\n      <td>3.0</td>\n      <td>8225.0</td>\n      <td>96.666667</td>\n      <td>5.205128</td>\n      <td>14</td>\n    </tr>\n    <tr>\n      <th>97854</th>\n      <td>56.0</td>\n      <td>1.920940e+09</td>\n      <td>327.0</td>\n      <td>22.0</td>\n      <td>8193.333333</td>\n      <td>3.0</td>\n      <td>1.0</td>\n      <td>8225.0</td>\n      <td>31.666667</td>\n      <td>1.705128</td>\n      <td>14</td>\n    </tr>\n    <tr>\n      <th>97855</th>\n      <td>54.0</td>\n      <td>1.920940e+09</td>\n      <td>331.0</td>\n      <td>20.0</td>\n      <td>8291.666667</td>\n      <td>3.0</td>\n      <td>2.0</td>\n      <td>8225.0</td>\n      <td>66.666667</td>\n      <td>3.589744</td>\n      <td>14</td>\n    </tr>\n    <tr>\n      <th>97856</th>\n      <td>53.0</td>\n      <td>1.920940e+09</td>\n      <td>334.0</td>\n      <td>15.0</td>\n      <td>8362.500000</td>\n      <td>3.0</td>\n      <td>4.0</td>\n      <td>8225.0</td>\n      <td>137.500000</td>\n      <td>7.403846</td>\n      <td>14</td>\n    </tr>\n  </tbody>\n</table>\n<p>97857 rows × 11 columns</p>\n</div>"
     },
     "metadata": {}
    }
   ],
   "source": [
    "dataset = pd.read_csv(\"dati_MM.csv\") #tanto vale andare di ordine 2\n",
    "display(dataset) #non contiene i trigger che ormai non ci servono più (abbiamo il time pedestal e tutto)"
   ]
  },
  {
   "source": [
    "se ho X, COLUMN e LAYER posso costruire XR e XL come column +- x in un modo layer dependent; questo significa che tutte le altre colonne del dataframe non mi servono più e pertanto me ne sbarazzo (ma in modo \"safe\", cioè con una copia del dataset). Devo tenere orbit ed event perché mi aiutano ad identificare l'appartenenza di un dato hit ad un dato evento; infine aggiungo le colonne che riempirò a breve per indicare la posizione assoluta con ambiguità non risolta."
   ],
   "cell_type": "markdown",
   "metadata": {}
  },
  {
   "cell_type": "code",
   "execution_count": 3,
   "metadata": {},
   "outputs": [
    {
     "output_type": "display_data",
     "data": {
      "text/plain": "          ORBIT_CNT  LAYER          X  COLUMN  XR  XL\n0      1.897417e+09    4.0  11.038462       4 NaN NaN\n1      1.897417e+09    2.0   4.980769       4 NaN NaN\n2      1.897417e+09    1.0   1.929487       4 NaN NaN\n3      1.897417e+09    3.0   5.788462       4 NaN NaN\n4      1.897417e+09    4.0  16.288462       7 NaN NaN\n...             ...    ...        ...     ...  ..  ..\n97852  1.920940e+09    3.0   8.166667       5 NaN NaN\n97853  1.920940e+09    3.0   5.205128      14 NaN NaN\n97854  1.920940e+09    1.0   1.705128      14 NaN NaN\n97855  1.920940e+09    2.0   3.589744      14 NaN NaN\n97856  1.920940e+09    4.0   7.403846      14 NaN NaN\n\n[97857 rows x 6 columns]",
      "text/html": "<div>\n<style scoped>\n    .dataframe tbody tr th:only-of-type {\n        vertical-align: middle;\n    }\n\n    .dataframe tbody tr th {\n        vertical-align: top;\n    }\n\n    .dataframe thead th {\n        text-align: right;\n    }\n</style>\n<table border=\"1\" class=\"dataframe\">\n  <thead>\n    <tr style=\"text-align: right;\">\n      <th></th>\n      <th>ORBIT_CNT</th>\n      <th>LAYER</th>\n      <th>X</th>\n      <th>COLUMN</th>\n      <th>XR</th>\n      <th>XL</th>\n    </tr>\n  </thead>\n  <tbody>\n    <tr>\n      <th>0</th>\n      <td>1.897417e+09</td>\n      <td>4.0</td>\n      <td>11.038462</td>\n      <td>4</td>\n      <td>NaN</td>\n      <td>NaN</td>\n    </tr>\n    <tr>\n      <th>1</th>\n      <td>1.897417e+09</td>\n      <td>2.0</td>\n      <td>4.980769</td>\n      <td>4</td>\n      <td>NaN</td>\n      <td>NaN</td>\n    </tr>\n    <tr>\n      <th>2</th>\n      <td>1.897417e+09</td>\n      <td>1.0</td>\n      <td>1.929487</td>\n      <td>4</td>\n      <td>NaN</td>\n      <td>NaN</td>\n    </tr>\n    <tr>\n      <th>3</th>\n      <td>1.897417e+09</td>\n      <td>3.0</td>\n      <td>5.788462</td>\n      <td>4</td>\n      <td>NaN</td>\n      <td>NaN</td>\n    </tr>\n    <tr>\n      <th>4</th>\n      <td>1.897417e+09</td>\n      <td>4.0</td>\n      <td>16.288462</td>\n      <td>7</td>\n      <td>NaN</td>\n      <td>NaN</td>\n    </tr>\n    <tr>\n      <th>...</th>\n      <td>...</td>\n      <td>...</td>\n      <td>...</td>\n      <td>...</td>\n      <td>...</td>\n      <td>...</td>\n    </tr>\n    <tr>\n      <th>97852</th>\n      <td>1.920940e+09</td>\n      <td>3.0</td>\n      <td>8.166667</td>\n      <td>5</td>\n      <td>NaN</td>\n      <td>NaN</td>\n    </tr>\n    <tr>\n      <th>97853</th>\n      <td>1.920940e+09</td>\n      <td>3.0</td>\n      <td>5.205128</td>\n      <td>14</td>\n      <td>NaN</td>\n      <td>NaN</td>\n    </tr>\n    <tr>\n      <th>97854</th>\n      <td>1.920940e+09</td>\n      <td>1.0</td>\n      <td>1.705128</td>\n      <td>14</td>\n      <td>NaN</td>\n      <td>NaN</td>\n    </tr>\n    <tr>\n      <th>97855</th>\n      <td>1.920940e+09</td>\n      <td>2.0</td>\n      <td>3.589744</td>\n      <td>14</td>\n      <td>NaN</td>\n      <td>NaN</td>\n    </tr>\n    <tr>\n      <th>97856</th>\n      <td>1.920940e+09</td>\n      <td>4.0</td>\n      <td>7.403846</td>\n      <td>14</td>\n      <td>NaN</td>\n      <td>NaN</td>\n    </tr>\n  </tbody>\n</table>\n<p>97857 rows × 6 columns</p>\n</div>"
     },
     "metadata": {}
    }
   ],
   "source": [
    "df = dataset.copy() \n",
    "df = df[[\"ORBIT_CNT\",\"LAYER\",\"X\",\"COLUMN\"]]#tengo orbit, event, layer, column, x riassegnando a df se stesso a cui accedo mediante la lista delle colonne di interesse\n",
    "df[\"XR\"] = np.nan\n",
    "df[\"XL\"] = np.nan\n",
    "display(df)\n",
    "#df.info(memory_usage=\"deep\") #4.4 mb"
   ]
  },
  {
   "source": [
    "Adesso devo calcolare XR e XL, cioè le colonne contenenti le posizioni in coordinate assolute a partire da \"in basso a sinistra\" in mm (con ambiguità). Questo calcolo era già stato fatto (ma senza salvarne il risultato) dentro la funzione di disegno nel notebook precedente; mi basta allora riciclare parti di quel codice."
   ],
   "cell_type": "markdown",
   "metadata": {}
  },
  {
   "cell_type": "code",
   "execution_count": 4,
   "metadata": {},
   "outputs": [
    {
     "output_type": "display_data",
     "data": {
      "text/plain": "          ORBIT_CNT  LAYER          X  COLUMN          XR          XL\n0      1.897417e+09    4.0  11.038462       4  179.038462  156.961538\n1      1.897417e+09    2.0   4.980769       4  172.980769  163.019231\n2      1.897417e+09    1.0   1.929487       4  148.929487  145.070513\n3      1.897417e+09    3.0   5.788462       4  152.788462  141.211538\n4      1.897417e+09    4.0  16.288462       7  310.288462  277.711538\n...             ...    ...        ...     ...         ...         ...\n97852  1.920940e+09    3.0   8.166667       5  197.166667  180.833333\n97853  1.920940e+09    3.0   5.205128      14  572.205128  561.794872\n97854  1.920940e+09    1.0   1.705128      14  568.705128  565.294872\n97855  1.920940e+09    2.0   3.589744      14  591.589744  584.410256\n97856  1.920940e+09    4.0   7.403846      14  595.403846  580.596154\n\n[97857 rows x 6 columns]",
      "text/html": "<div>\n<style scoped>\n    .dataframe tbody tr th:only-of-type {\n        vertical-align: middle;\n    }\n\n    .dataframe tbody tr th {\n        vertical-align: top;\n    }\n\n    .dataframe thead th {\n        text-align: right;\n    }\n</style>\n<table border=\"1\" class=\"dataframe\">\n  <thead>\n    <tr style=\"text-align: right;\">\n      <th></th>\n      <th>ORBIT_CNT</th>\n      <th>LAYER</th>\n      <th>X</th>\n      <th>COLUMN</th>\n      <th>XR</th>\n      <th>XL</th>\n    </tr>\n  </thead>\n  <tbody>\n    <tr>\n      <th>0</th>\n      <td>1.897417e+09</td>\n      <td>4.0</td>\n      <td>11.038462</td>\n      <td>4</td>\n      <td>179.038462</td>\n      <td>156.961538</td>\n    </tr>\n    <tr>\n      <th>1</th>\n      <td>1.897417e+09</td>\n      <td>2.0</td>\n      <td>4.980769</td>\n      <td>4</td>\n      <td>172.980769</td>\n      <td>163.019231</td>\n    </tr>\n    <tr>\n      <th>2</th>\n      <td>1.897417e+09</td>\n      <td>1.0</td>\n      <td>1.929487</td>\n      <td>4</td>\n      <td>148.929487</td>\n      <td>145.070513</td>\n    </tr>\n    <tr>\n      <th>3</th>\n      <td>1.897417e+09</td>\n      <td>3.0</td>\n      <td>5.788462</td>\n      <td>4</td>\n      <td>152.788462</td>\n      <td>141.211538</td>\n    </tr>\n    <tr>\n      <th>4</th>\n      <td>1.897417e+09</td>\n      <td>4.0</td>\n      <td>16.288462</td>\n      <td>7</td>\n      <td>310.288462</td>\n      <td>277.711538</td>\n    </tr>\n    <tr>\n      <th>...</th>\n      <td>...</td>\n      <td>...</td>\n      <td>...</td>\n      <td>...</td>\n      <td>...</td>\n      <td>...</td>\n    </tr>\n    <tr>\n      <th>97852</th>\n      <td>1.920940e+09</td>\n      <td>3.0</td>\n      <td>8.166667</td>\n      <td>5</td>\n      <td>197.166667</td>\n      <td>180.833333</td>\n    </tr>\n    <tr>\n      <th>97853</th>\n      <td>1.920940e+09</td>\n      <td>3.0</td>\n      <td>5.205128</td>\n      <td>14</td>\n      <td>572.205128</td>\n      <td>561.794872</td>\n    </tr>\n    <tr>\n      <th>97854</th>\n      <td>1.920940e+09</td>\n      <td>1.0</td>\n      <td>1.705128</td>\n      <td>14</td>\n      <td>568.705128</td>\n      <td>565.294872</td>\n    </tr>\n    <tr>\n      <th>97855</th>\n      <td>1.920940e+09</td>\n      <td>2.0</td>\n      <td>3.589744</td>\n      <td>14</td>\n      <td>591.589744</td>\n      <td>584.410256</td>\n    </tr>\n    <tr>\n      <th>97856</th>\n      <td>1.920940e+09</td>\n      <td>4.0</td>\n      <td>7.403846</td>\n      <td>14</td>\n      <td>595.403846</td>\n      <td>580.596154</td>\n    </tr>\n  </tbody>\n</table>\n<p>97857 rows × 6 columns</p>\n</div>"
     },
     "metadata": {}
    }
   ],
   "source": [
    "def compute_xr_xl(hit) :\n",
    "    dx = 42 #lunghezza di un rettangolo in mm\n",
    "    # mi serve per scalare le dimensioni da unità arbitrarie finora utilizzate in unità fisiche \n",
    "\n",
    "    #anche stavolta le serie danno problemi, gli array di numpy no!\n",
    "    if hit.LAYER.to_numpy(dtype=int) % 2 != 0 : #mi viene meglio fare prima il caso senza traslazione\n",
    "            hit[\"XR\"] = dx * (hit.COLUMN - 1/2) + hit.X #stessa formula di prima +- X\n",
    "            hit[\"XL\"] = dx * (hit.COLUMN - 1/2) - hit.X\n",
    "    else :\n",
    "        hit[\"XR\"] = dx * hit.COLUMN + hit.X #qui devo sommare dx/2 per tenere conto della traslazione dei layer 2 e 4 (nella nostra convenzione), quindi il -1/2 di prima si semplifica \n",
    "        hit[\"XL\"] = dx * hit.COLUMN - hit.X \n",
    "    return hit\n",
    "\n",
    "df = df.groupby([\"ORBIT_CNT\",\"LAYER\"],group_keys=False).apply(compute_xr_xl) #fissare orbit ed event mi dà ~4 hits; siccome abbiamo eliminato tempo fa le hits con più celle attive sullo stesso layer se raggruppo anche per layer posso stare certo di trovare un'unica hit da utilizzare nella funzione di cui sopra\n",
    "# a questo punto però visto che l'intento è di applicare la funzione hit per hit potrei applicarla direttamente al dataframe intero \n",
    "display(df)"
   ]
  },
  {
   "source": [
    "Per potere effettuare un fit mi serve anche il valore di Y (che è lo stesso per XR e XL). Per calcolarlo basta usare la stessa formula usata nella funzione per graficare il detector nel time pedestal, che dipende solo dal valore del layer"
   ],
   "cell_type": "markdown",
   "metadata": {}
  },
  {
   "cell_type": "code",
   "execution_count": 5,
   "metadata": {},
   "outputs": [
    {
     "output_type": "display_data",
     "data": {
      "text/plain": "          ORBIT_CNT  LAYER          X  COLUMN          XR          XL     Y\n0      1.897417e+09    4.0  11.038462       4  179.038462  156.961538  45.5\n1      1.897417e+09    2.0   4.980769       4  172.980769  163.019231  19.5\n2      1.897417e+09    1.0   1.929487       4  148.929487  145.070513   6.5\n3      1.897417e+09    3.0   5.788462       4  152.788462  141.211538  32.5\n4      1.897417e+09    4.0  16.288462       7  310.288462  277.711538  45.5\n...             ...    ...        ...     ...         ...         ...   ...\n97852  1.920940e+09    3.0   8.166667       5  197.166667  180.833333  32.5\n97853  1.920940e+09    3.0   5.205128      14  572.205128  561.794872  32.5\n97854  1.920940e+09    1.0   1.705128      14  568.705128  565.294872   6.5\n97855  1.920940e+09    2.0   3.589744      14  591.589744  584.410256  19.5\n97856  1.920940e+09    4.0   7.403846      14  595.403846  580.596154  45.5\n\n[97857 rows x 7 columns]",
      "text/html": "<div>\n<style scoped>\n    .dataframe tbody tr th:only-of-type {\n        vertical-align: middle;\n    }\n\n    .dataframe tbody tr th {\n        vertical-align: top;\n    }\n\n    .dataframe thead th {\n        text-align: right;\n    }\n</style>\n<table border=\"1\" class=\"dataframe\">\n  <thead>\n    <tr style=\"text-align: right;\">\n      <th></th>\n      <th>ORBIT_CNT</th>\n      <th>LAYER</th>\n      <th>X</th>\n      <th>COLUMN</th>\n      <th>XR</th>\n      <th>XL</th>\n      <th>Y</th>\n    </tr>\n  </thead>\n  <tbody>\n    <tr>\n      <th>0</th>\n      <td>1.897417e+09</td>\n      <td>4.0</td>\n      <td>11.038462</td>\n      <td>4</td>\n      <td>179.038462</td>\n      <td>156.961538</td>\n      <td>45.5</td>\n    </tr>\n    <tr>\n      <th>1</th>\n      <td>1.897417e+09</td>\n      <td>2.0</td>\n      <td>4.980769</td>\n      <td>4</td>\n      <td>172.980769</td>\n      <td>163.019231</td>\n      <td>19.5</td>\n    </tr>\n    <tr>\n      <th>2</th>\n      <td>1.897417e+09</td>\n      <td>1.0</td>\n      <td>1.929487</td>\n      <td>4</td>\n      <td>148.929487</td>\n      <td>145.070513</td>\n      <td>6.5</td>\n    </tr>\n    <tr>\n      <th>3</th>\n      <td>1.897417e+09</td>\n      <td>3.0</td>\n      <td>5.788462</td>\n      <td>4</td>\n      <td>152.788462</td>\n      <td>141.211538</td>\n      <td>32.5</td>\n    </tr>\n    <tr>\n      <th>4</th>\n      <td>1.897417e+09</td>\n      <td>4.0</td>\n      <td>16.288462</td>\n      <td>7</td>\n      <td>310.288462</td>\n      <td>277.711538</td>\n      <td>45.5</td>\n    </tr>\n    <tr>\n      <th>...</th>\n      <td>...</td>\n      <td>...</td>\n      <td>...</td>\n      <td>...</td>\n      <td>...</td>\n      <td>...</td>\n      <td>...</td>\n    </tr>\n    <tr>\n      <th>97852</th>\n      <td>1.920940e+09</td>\n      <td>3.0</td>\n      <td>8.166667</td>\n      <td>5</td>\n      <td>197.166667</td>\n      <td>180.833333</td>\n      <td>32.5</td>\n    </tr>\n    <tr>\n      <th>97853</th>\n      <td>1.920940e+09</td>\n      <td>3.0</td>\n      <td>5.205128</td>\n      <td>14</td>\n      <td>572.205128</td>\n      <td>561.794872</td>\n      <td>32.5</td>\n    </tr>\n    <tr>\n      <th>97854</th>\n      <td>1.920940e+09</td>\n      <td>1.0</td>\n      <td>1.705128</td>\n      <td>14</td>\n      <td>568.705128</td>\n      <td>565.294872</td>\n      <td>6.5</td>\n    </tr>\n    <tr>\n      <th>97855</th>\n      <td>1.920940e+09</td>\n      <td>2.0</td>\n      <td>3.589744</td>\n      <td>14</td>\n      <td>591.589744</td>\n      <td>584.410256</td>\n      <td>19.5</td>\n    </tr>\n    <tr>\n      <th>97856</th>\n      <td>1.920940e+09</td>\n      <td>4.0</td>\n      <td>7.403846</td>\n      <td>14</td>\n      <td>595.403846</td>\n      <td>580.596154</td>\n      <td>45.5</td>\n    </tr>\n  </tbody>\n</table>\n<p>97857 rows × 7 columns</p>\n</div>"
     },
     "metadata": {}
    }
   ],
   "source": [
    "dy = 13 #altezza singolo rettangolo in mm\n",
    "df[\"Y\"] = dy * (df.LAYER-1/2)\n",
    "display(df)"
   ]
  },
  {
   "source": [
    "A questo punto posso alleggerirmi ancora tenendo solo orbit ed event (per identificare l'evento) + XR, XL e Y per il calcolo delle rette. Prima di eliminare le colonne che non ci servono più bisogna ordinare per layer in quanto successivamente introdurremo quattro colonne denominate layer1-2-3-4 nelle quali andranno inserite le coordinate risolte dall'ambiguità della traiettoria di una particella per ogni evento.  "
   ],
   "cell_type": "markdown",
   "metadata": {}
  },
  {
   "cell_type": "code",
   "execution_count": 6,
   "metadata": {},
   "outputs": [
    {
     "output_type": "display_data",
     "data": {
      "text/plain": "          ORBIT_CNT          XR          XL     Y\n0      1.897417e+09  148.929487  145.070513   6.5\n1      1.897417e+09  172.980769  163.019231  19.5\n2      1.897417e+09  152.788462  141.211538  32.5\n3      1.897417e+09  179.038462  156.961538  45.5\n4      1.897417e+09  286.012821  259.987179   6.5\n...             ...         ...         ...   ...\n97852  1.920940e+09  213.589744  206.410256  45.5\n97853  1.920940e+09  568.705128  565.294872   6.5\n97854  1.920940e+09  591.589744  584.410256  19.5\n97855  1.920940e+09  572.205128  561.794872  32.5\n97856  1.920940e+09  595.403846  580.596154  45.5\n\n[97857 rows x 4 columns]",
      "text/html": "<div>\n<style scoped>\n    .dataframe tbody tr th:only-of-type {\n        vertical-align: middle;\n    }\n\n    .dataframe tbody tr th {\n        vertical-align: top;\n    }\n\n    .dataframe thead th {\n        text-align: right;\n    }\n</style>\n<table border=\"1\" class=\"dataframe\">\n  <thead>\n    <tr style=\"text-align: right;\">\n      <th></th>\n      <th>ORBIT_CNT</th>\n      <th>XR</th>\n      <th>XL</th>\n      <th>Y</th>\n    </tr>\n  </thead>\n  <tbody>\n    <tr>\n      <th>0</th>\n      <td>1.897417e+09</td>\n      <td>148.929487</td>\n      <td>145.070513</td>\n      <td>6.5</td>\n    </tr>\n    <tr>\n      <th>1</th>\n      <td>1.897417e+09</td>\n      <td>172.980769</td>\n      <td>163.019231</td>\n      <td>19.5</td>\n    </tr>\n    <tr>\n      <th>2</th>\n      <td>1.897417e+09</td>\n      <td>152.788462</td>\n      <td>141.211538</td>\n      <td>32.5</td>\n    </tr>\n    <tr>\n      <th>3</th>\n      <td>1.897417e+09</td>\n      <td>179.038462</td>\n      <td>156.961538</td>\n      <td>45.5</td>\n    </tr>\n    <tr>\n      <th>4</th>\n      <td>1.897417e+09</td>\n      <td>286.012821</td>\n      <td>259.987179</td>\n      <td>6.5</td>\n    </tr>\n    <tr>\n      <th>...</th>\n      <td>...</td>\n      <td>...</td>\n      <td>...</td>\n      <td>...</td>\n    </tr>\n    <tr>\n      <th>97852</th>\n      <td>1.920940e+09</td>\n      <td>213.589744</td>\n      <td>206.410256</td>\n      <td>45.5</td>\n    </tr>\n    <tr>\n      <th>97853</th>\n      <td>1.920940e+09</td>\n      <td>568.705128</td>\n      <td>565.294872</td>\n      <td>6.5</td>\n    </tr>\n    <tr>\n      <th>97854</th>\n      <td>1.920940e+09</td>\n      <td>591.589744</td>\n      <td>584.410256</td>\n      <td>19.5</td>\n    </tr>\n    <tr>\n      <th>97855</th>\n      <td>1.920940e+09</td>\n      <td>572.205128</td>\n      <td>561.794872</td>\n      <td>32.5</td>\n    </tr>\n    <tr>\n      <th>97856</th>\n      <td>1.920940e+09</td>\n      <td>595.403846</td>\n      <td>580.596154</td>\n      <td>45.5</td>\n    </tr>\n  </tbody>\n</table>\n<p>97857 rows × 4 columns</p>\n</div>"
     },
     "metadata": {}
    }
   ],
   "source": [
    "df = df.groupby(['ORBIT_CNT'],group_keys=False)\\\n",
    "                   .apply(lambda x: x.sort_values(['LAYER']))\\\n",
    "                   .reset_index()\\\n",
    "                   .drop(['index'],axis=1)\n",
    "df = df[[\"ORBIT_CNT\",\"XR\",\"XL\",\"Y\"]]\n",
    "display(df)"
   ]
  },
  {
   "source": [
    "Adesso arriva il bello!! \n",
    "Supponiamo di avere un evento dotato di 4 hits (una per layer) per un totale di 8 punti candidati a costruire la nostra retta. Per ciascun livello dobbiamo scegliere un punto; dal momento che abbiamo due punti da scegliere da ciascun layer e 4 layer in totale questo significa che abbiamo 2^4=16 possibili combinazioni di punti. Se l'evento \"funziona\" una di queste combinazioni produrrà una retta che attraverserà in pieno TUTTI i punti con cui è stata costruita anziché solo alcuni; poiché ci sono degli errori sperimentali sui drift_times e quindi sulle XR/XL non possiamo aspettarci che la retta \"giusta\" attraversi esattamente i punti \"giusti\", quindi dobbiamo piuttosto cercare la retta di best fit che minimizza la distanza fra i punti e la retta di best fit stessa.  \n",
    "Volendo lavorare a forza bruta possiamo procedere così: \n",
    "- mediante meshgrid, transpose e reshape costruiamo in modo molto efficiente le 16 possibili combinazioni menzionate sopra. Come/perché questo funzioni è un po' difficile da spiegare; alla fine ci sono delle celle che ho usato per fare dei test che dovrebbero contenere un abbozzo di spiegazione, ma per il momento mi mantengo sul vago. L'alternativa è usare itertools.combinations, che pur essendo molto più intuitivo pare sia non altrettanto performante e mealleabile ai nostri scopi.\n",
    "- per ciascuna di queste 16 combinazioni calcoliamo la retta di best fit mediante scipy.stats.linregress(); pare che questa sia la funzione che non ci richieda di costruire esplicitamente una matrice da invertire più veloce per effettuare la regressione lineare (stando a [questo articolo](https://www.freecodecamp.org/news/data-science-with-python-8-ways-to-do-linear-regression-and-measure-their-speed-b5577d75f8b/), perlomeno). Per misurare quella che si adatta meglio guardiamo al coefficiente di correlazione lineare r e scegliamo quella con r massimo; poiché non mi va di sprecare memoria per rette quasi tutte da buttare penso sia una buona idea tenere traccia della retta migliore e ogni volta confrontare con la successiva e scartare la retta sconfitta (si possono provare alternative, comunque. Magari salvandole e poi massimizzando r viene meglio, boh). Chiaramente oltre alla retta migliore salviamo quale combinazione di punti l'abbia prodotta!\n",
    "- in linea di principio fatto questo lavoro dobbiamo controllare quale sia la massima distanza orizzontale di un qualunque punto selezionato dalla retta stessa. Sappiamo che nel caso di eventi buoni tale distanza è minore dell'incertezza sperimentale data da v_drift*25 ns; se questa condizione non si verifica vuol dire che la misura in questione non è compatibile con una traiettoria rettilinea che attraversi tutti i punti osservati (entro l'incertezza sperimentale) in nessun caso, e quindi l'evento va scartato.  \n",
    "  \n",
    "Ovviamente l'approccio di cui sopra è a forza bruta e probabilmente come prestazioni fa schifo, quindi mi limito a lavorare per il momento con un mini dataframe se non altro per arrivare a qualche risultato; oltre a scrivere le cose in modo più efficiente ha senso pensare ad un algoritmo che non abbia bisogno di costruire tutte e 16 le rette. Come detto la costruzione di tutte le coppie possibili mediante meshgrid è molto veloce, quindi è ragionevole aspettarsi che il grosso del tempo venga impiegato dai fit e dai confronti; per questo è desiderabile adottare una strategia più furba. Per ora vado a forza bruta incrociando le dita  \n"
   ],
   "cell_type": "markdown",
   "metadata": {}
  },
  {
   "cell_type": "code",
   "execution_count": 9,
   "metadata": {},
   "outputs": [],
   "source": [
    "# dopo aver creato le colonne layer1-2-3-4 costruisco una funzione che assegna alla fine ad ognuna di queste per ciascun evento le ascisse x1-2-3-4 dei punti che raggiungono il miglior coefficiente di correlazione lineare\n",
    "from itertools import product \n",
    "def plotline(group):\n",
    "    Xs = np.array(list(product(*group.loc[:, ['XR','XL']].to_numpy())))\n",
    "    Y = np.array(group['Y'].to_numpy())\n",
    "    # X e Y devono essere rispettivamente: X l'array di quattro elementi che esce fuori da \"vettore\" mentre Y la colonna del dataframe corrispondente all'evento che stiamo analizzando\n",
    "    if Xs.shape[1] != Y.shape[0] : # perchè Xs è un array 16 x 4 elementi e a me interessa che matchi con il numero di elementi di Y cioè teoricamente 4 (oppure entrambi tre quando ci dovessero essere dei buchi)\n",
    "        print(\"X.shape and Y.shape don't match\")\n",
    "        return None \n",
    "    r = np.zeros(Xs.shape[0]) # voglio sedici coefficienti di correlazione lineare tra i quali soltanto uno sarà scelto per rappresentare la più appetibile retta dell'evento fisico analizzato\n",
    "    for i in range(Xs.shape[0]) :\n",
    "        r[i] = np.corrcoef(Xs[i],Y)[0,1] # perchè r[i] è una matrice \n",
    "    bestx = Xs[np.abs(r).argmax()]\n",
    "    #print(Xs)\n",
    "    # ho bisogno del dataframe ordinato per layer per assegnare i quattro punti a partire dalle componenti ordinate univocamente dell'array best \n",
    "    group.loc[:,'X_BEST']=bestx\n",
    "    return group"
   ]
  },
  {
   "cell_type": "code",
   "execution_count": 10,
   "metadata": {},
   "outputs": [],
   "source": [
    "df1 = df.groupby(['ORBIT_CNT'], group_keys=False)\\\n",
    "                                       .apply(plotline)\\\n",
    "                                       .reset_index()\\\n",
    "                                       .drop(['index'],axis=1)       "
   ]
  },
  {
   "cell_type": "code",
   "execution_count": null,
   "metadata": {},
   "outputs": [],
   "source": [
    "def meq(event):\n",
    "    X = np.array(event['X_BEST'].to_numpy())\n",
    "    Y = np.array(event['Y'].to_numpy())\n",
    "    res = stats.linregress(X,Y)\n",
    "    event['M'] = res.slope\n",
    "    event['Q'] = res.intercept\n",
    "    return event"
   ]
  },
  {
   "cell_type": "code",
   "execution_count": null,
   "metadata": {},
   "outputs": [],
   "source": [
    "df2 = df1.groupby(['ORBIT_CNT'], group_keys=False)\\\n",
    "                                       .apply(meq)\\\n",
    "                                       .reset_index()\\\n",
    "                                       .drop(['index'],axis=1) \n",
    "df2"
   ]
  },
  {
   "cell_type": "code",
   "execution_count": null,
   "metadata": {},
   "outputs": [],
   "source": [
    "from scipy import stats\n",
    "delta_x = 42/(2*390)*(50) #l'indeterminazione sulle x è v_d*delta_t=42/(2*390)*(2*25). Calcolo questo valore fuori perché non ha senso ricalcolarlo volta per volta, è una costante\n",
    "\n",
    "def event_plot(event):\n",
    "    \n",
    "    fig,ax1 = plt.subplots(figsize=(1.5*4.2*17,1.5*1.3*6))\n",
    "    \n",
    "    #dimensions of one cell\n",
    "    dx = 42\n",
    "    dy = 13\n",
    "    \n",
    "    #draw the detector\n",
    "    ax1.set_xlim(0,42*16 + 42)\n",
    "    ax1.set_ylim(-13,13*4 + 13)\n",
    "\n",
    "    xr = np.array(event['XR'].to_numpy())\n",
    "    xl = np.array(event['XL'].to_numpy())\n",
    "    X = np.array(event['X_BEST'].to_numpy())\n",
    "    Y = np.array(event['Y'].to_numpy())\n",
    "\n",
    "    x_1 = x_3 = np.arange(16)*dx \n",
    "    x_2 = x_4 = x_1 + dx/2\n",
    "    [y_1, y_2, y_3, y_4] = np.arange(4)*dy \n",
    "\n",
    "\n",
    "    for i in range(16):\n",
    "        rect = patches.Rectangle((x_1[i],y_1),dx,dy,linewidth=10,edgecolor='black',facecolor='none')\n",
    "        ax1.add_patch(rect)\n",
    "    \n",
    "        rect = patches.Rectangle((x_2[i],y_2),dx,dy,linewidth=10,edgecolor='black',facecolor='none')\n",
    "        ax1.add_patch(rect)\n",
    "    \n",
    "        rect = patches.Rectangle((x_3[i],y_3),dx,dy,linewidth=10,edgecolor='black',facecolor='none')\n",
    "        ax1.add_patch(rect)\n",
    "        \n",
    "        rect = patches.Rectangle((x_4[i],y_4),dx,dy,linewidth=10,edgecolor='black',facecolor='none')\n",
    "        ax1.add_patch(rect)\n",
    "        \n",
    "        ax1.axis('off')\n",
    "        \n",
    "    ax1.scatter(xr,Y, marker = 'x', c = 'red', s = 500, linewidth = 7)\n",
    "    ax1.scatter(xl,Y, marker = 'x', c = 'red', s = 500, linewidth = 7)\n",
    "    ax1.errorbar(X, Y, xerr=delta_x, fmt='.', c = 'blue', linewidth = 7) # errorbar\n",
    "    ax1.plot([(-2-event.Q)/event.M,(60-event.Q)/event.M] ,[-2,60], c= 'blue', linewidth = 7)\n",
    "    # avendo visto che il massimo in altezza che raggiunge il detector è circa cinquanta, affinchè la retta cha rappresenta la traiettoria della particella sia visibile scelgo come limite superiore sessanta.\n",
    "    return ax1"
   ]
  },
  {
   "cell_type": "code",
   "execution_count": null,
   "metadata": {},
   "outputs": [],
   "source": [
    "for i in np.unique(df2.ORBIT_CNT.values)[:10]:\n",
    "    try:\n",
    "        event = df2.groupby(['ORBIT_CNT','EVENT']).get_group((i,1))\n",
    "        event_plot(event)\n",
    "    except:\n",
    "        event = df2.groupby(['ORBIT_CNT']).get_group(i)\n",
    "        event_plot(event)"
   ]
  }
 ]
}
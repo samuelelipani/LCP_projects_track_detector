{
 "metadata": {
  "language_info": {
   "codemirror_mode": {
    "name": "ipython",
    "version": 3
   },
   "file_extension": ".py",
   "mimetype": "text/x-python",
   "name": "python",
   "nbconvert_exporter": "python",
   "pygments_lexer": "ipython3",
   "version": "3.9.1-final"
  },
  "orig_nbformat": 2,
  "kernelspec": {
   "name": "python3",
   "display_name": "Python 3",
   "language": "python"
  }
 },
 "nbformat": 4,
 "nbformat_minor": 2,
 "cells": [
  {
   "cell_type": "code",
   "execution_count": 13,
   "metadata": {},
   "outputs": [],
   "source": [
    "import numpy as np \n",
    "import pandas as pd\n",
    "import time \n",
    "import timeit\n",
    "import matplotlib.pyplot as plt\n",
    "import matplotlib.patches as patches\n",
    "from scipy import interpolate\n",
    "import matplotlib.pyplot as plt"
   ]
  },
  {
   "cell_type": "code",
   "execution_count": 18,
   "metadata": {},
   "outputs": [
    {
     "output_type": "display_data",
     "data": {
      "text/plain": "        TDC_CHANNEL     ORBIT_CNT  BX_COUNTER  TDC_MEAS          TIME  \\\n0              13.0  1.897417e+09       445.0      24.0  11145.000000   \n1              14.0  1.897417e+09       450.0       9.0  11257.500000   \n2              16.0  1.897417e+09       452.0      17.0  11314.166667   \n3             139.0  1.897417e+09       454.0       0.0  11350.000000   \n4              15.0  1.897417e+09       458.0       9.0  11457.500000   \n...             ...           ...         ...       ...           ...   \n122545         55.0  1.920940e+09       325.0       4.0   8128.333333   \n122546         56.0  1.920940e+09       327.0      22.0   8193.333333   \n122547        139.0  1.920940e+09       329.0       0.0   8225.000000   \n122548         54.0  1.920940e+09       331.0      20.0   8291.666667   \n122549         53.0  1.920940e+09       334.0      15.0   8362.500000   \n\n        DETECTOR  LAYER  \n0            3.0    4.0  \n1            3.0    2.0  \n2            3.0    1.0  \n3            0.0    0.0  \n4            3.0    3.0  \n...          ...    ...  \n122545       3.0    3.0  \n122546       3.0    1.0  \n122547       0.0    0.0  \n122548       3.0    2.0  \n122549       3.0    4.0  \n\n[122550 rows x 7 columns]",
      "text/html": "<div>\n<style scoped>\n    .dataframe tbody tr th:only-of-type {\n        vertical-align: middle;\n    }\n\n    .dataframe tbody tr th {\n        vertical-align: top;\n    }\n\n    .dataframe thead th {\n        text-align: right;\n    }\n</style>\n<table border=\"1\" class=\"dataframe\">\n  <thead>\n    <tr style=\"text-align: right;\">\n      <th></th>\n      <th>TDC_CHANNEL</th>\n      <th>ORBIT_CNT</th>\n      <th>BX_COUNTER</th>\n      <th>TDC_MEAS</th>\n      <th>TIME</th>\n      <th>DETECTOR</th>\n      <th>LAYER</th>\n    </tr>\n  </thead>\n  <tbody>\n    <tr>\n      <th>0</th>\n      <td>13.0</td>\n      <td>1.897417e+09</td>\n      <td>445.0</td>\n      <td>24.0</td>\n      <td>11145.000000</td>\n      <td>3.0</td>\n      <td>4.0</td>\n    </tr>\n    <tr>\n      <th>1</th>\n      <td>14.0</td>\n      <td>1.897417e+09</td>\n      <td>450.0</td>\n      <td>9.0</td>\n      <td>11257.500000</td>\n      <td>3.0</td>\n      <td>2.0</td>\n    </tr>\n    <tr>\n      <th>2</th>\n      <td>16.0</td>\n      <td>1.897417e+09</td>\n      <td>452.0</td>\n      <td>17.0</td>\n      <td>11314.166667</td>\n      <td>3.0</td>\n      <td>1.0</td>\n    </tr>\n    <tr>\n      <th>3</th>\n      <td>139.0</td>\n      <td>1.897417e+09</td>\n      <td>454.0</td>\n      <td>0.0</td>\n      <td>11350.000000</td>\n      <td>0.0</td>\n      <td>0.0</td>\n    </tr>\n    <tr>\n      <th>4</th>\n      <td>15.0</td>\n      <td>1.897417e+09</td>\n      <td>458.0</td>\n      <td>9.0</td>\n      <td>11457.500000</td>\n      <td>3.0</td>\n      <td>3.0</td>\n    </tr>\n    <tr>\n      <th>...</th>\n      <td>...</td>\n      <td>...</td>\n      <td>...</td>\n      <td>...</td>\n      <td>...</td>\n      <td>...</td>\n      <td>...</td>\n    </tr>\n    <tr>\n      <th>122545</th>\n      <td>55.0</td>\n      <td>1.920940e+09</td>\n      <td>325.0</td>\n      <td>4.0</td>\n      <td>8128.333333</td>\n      <td>3.0</td>\n      <td>3.0</td>\n    </tr>\n    <tr>\n      <th>122546</th>\n      <td>56.0</td>\n      <td>1.920940e+09</td>\n      <td>327.0</td>\n      <td>22.0</td>\n      <td>8193.333333</td>\n      <td>3.0</td>\n      <td>1.0</td>\n    </tr>\n    <tr>\n      <th>122547</th>\n      <td>139.0</td>\n      <td>1.920940e+09</td>\n      <td>329.0</td>\n      <td>0.0</td>\n      <td>8225.000000</td>\n      <td>0.0</td>\n      <td>0.0</td>\n    </tr>\n    <tr>\n      <th>122548</th>\n      <td>54.0</td>\n      <td>1.920940e+09</td>\n      <td>331.0</td>\n      <td>20.0</td>\n      <td>8291.666667</td>\n      <td>3.0</td>\n      <td>2.0</td>\n    </tr>\n    <tr>\n      <th>122549</th>\n      <td>53.0</td>\n      <td>1.920940e+09</td>\n      <td>334.0</td>\n      <td>15.0</td>\n      <td>8362.500000</td>\n      <td>3.0</td>\n      <td>4.0</td>\n    </tr>\n  </tbody>\n</table>\n<p>122550 rows × 7 columns</p>\n</div>"
     },
     "metadata": {}
    }
   ],
   "source": [
    "dataset = pd.read_csv(\"dati_LS.csv\")\n",
    "display(dataset)"
   ]
  },
  {
   "cell_type": "code",
   "execution_count": 5,
   "metadata": {},
   "outputs": [],
   "source": [
    "#la funzione nella cella seguente è più performante\n",
    "# df = dataset.copy()\n",
    "# df[\"DRIFT_TIME\"] = np.nan\n",
    "# df[\"HOR_AMBIG_COORD\"] = np.nan\n",
    "# #display(df)\n",
    "# #df.dtypes\n",
    "\n",
    "# def compute_drift_time(x) :\n",
    "#     v = 42/(2*390) #drift velocity in mm/ns\n",
    "#     #trigger_index = x[x['DETECTOR'] == 0].index\n",
    "#     #t0 = x.TIME[trigger_index]\n",
    "#     t0 = x.TIME[x['DETECTOR'] == 0].values #lavorare con le series dà problemi, numpy invece no\n",
    "#     l = x.DETECTOR != 0 #lascio il nan ai trigger\n",
    "#     x.DRIFT_TIME[l] = np.abs(x.TIME[l].values - t0)\n",
    "#     x.HOR_AMBIG_COORD[l] = v*np.abs(x.TIME[l] - t0)\n",
    "#     return x\n",
    "\n",
    "# df = df.groupby(['ORBIT_CNT'],group_keys=False)\\\n",
    "#                      .apply(compute_drift_time)\\\n",
    "#                      .reset_index()\\\n",
    "#                      .drop(['index'],axis=1) #niente dropna per non perdere i trigger\n",
    "# df"
   ]
  },
  {
   "cell_type": "code",
   "execution_count": 28,
   "metadata": {
    "tags": []
   },
   "outputs": [
    {
     "output_type": "execute_result",
     "data": {
      "text/plain": [
       "        TDC_CHANNEL     ORBIT_CNT  BX_COUNTER  TDC_MEAS          TIME  \\\n",
       "0              13.0  1.897417e+09       445.0      24.0  11145.000000   \n",
       "1              14.0  1.897417e+09       450.0       9.0  11257.500000   \n",
       "2              16.0  1.897417e+09       452.0      17.0  11314.166667   \n",
       "3             139.0  1.897417e+09       454.0       0.0  11350.000000   \n",
       "4              15.0  1.897417e+09       458.0       9.0  11457.500000   \n",
       "...             ...           ...         ...       ...           ...   \n",
       "122545         55.0  1.920940e+09       325.0       4.0   8128.333333   \n",
       "122546         56.0  1.920940e+09       327.0      22.0   8193.333333   \n",
       "122547        139.0  1.920940e+09       329.0       0.0   8225.000000   \n",
       "122548         54.0  1.920940e+09       331.0      20.0   8291.666667   \n",
       "122549         53.0  1.920940e+09       334.0      15.0   8362.500000   \n",
       "\n",
       "        DETECTOR  LAYER  TIME_PEDESTAL  DRIFT_TIME  HOR_AMBIG_COORD  \n",
       "0            3.0    4.0        11350.0  205.000000        11.038462  \n",
       "1            3.0    2.0        11350.0   92.500000         4.980769  \n",
       "2            3.0    1.0        11350.0   35.833333         1.929487  \n",
       "3            0.0    0.0            NaN         NaN              NaN  \n",
       "4            3.0    3.0        11350.0  107.500000         5.788462  \n",
       "...          ...    ...            ...         ...              ...  \n",
       "122545       3.0    3.0         8225.0   96.666667         5.205128  \n",
       "122546       3.0    1.0         8225.0   31.666667         1.705128  \n",
       "122547       0.0    0.0            NaN         NaN              NaN  \n",
       "122548       3.0    2.0         8225.0   66.666667         3.589744  \n",
       "122549       3.0    4.0         8225.0  137.500000         7.403846  \n",
       "\n",
       "[122550 rows x 10 columns]"
      ],
      "text/html": "<div>\n<style scoped>\n    .dataframe tbody tr th:only-of-type {\n        vertical-align: middle;\n    }\n\n    .dataframe tbody tr th {\n        vertical-align: top;\n    }\n\n    .dataframe thead th {\n        text-align: right;\n    }\n</style>\n<table border=\"1\" class=\"dataframe\">\n  <thead>\n    <tr style=\"text-align: right;\">\n      <th></th>\n      <th>TDC_CHANNEL</th>\n      <th>ORBIT_CNT</th>\n      <th>BX_COUNTER</th>\n      <th>TDC_MEAS</th>\n      <th>TIME</th>\n      <th>DETECTOR</th>\n      <th>LAYER</th>\n      <th>TIME_PEDESTAL</th>\n      <th>DRIFT_TIME</th>\n      <th>HOR_AMBIG_COORD</th>\n    </tr>\n  </thead>\n  <tbody>\n    <tr>\n      <th>0</th>\n      <td>13.0</td>\n      <td>1.897417e+09</td>\n      <td>445.0</td>\n      <td>24.0</td>\n      <td>11145.000000</td>\n      <td>3.0</td>\n      <td>4.0</td>\n      <td>11350.0</td>\n      <td>205.000000</td>\n      <td>11.038462</td>\n    </tr>\n    <tr>\n      <th>1</th>\n      <td>14.0</td>\n      <td>1.897417e+09</td>\n      <td>450.0</td>\n      <td>9.0</td>\n      <td>11257.500000</td>\n      <td>3.0</td>\n      <td>2.0</td>\n      <td>11350.0</td>\n      <td>92.500000</td>\n      <td>4.980769</td>\n    </tr>\n    <tr>\n      <th>2</th>\n      <td>16.0</td>\n      <td>1.897417e+09</td>\n      <td>452.0</td>\n      <td>17.0</td>\n      <td>11314.166667</td>\n      <td>3.0</td>\n      <td>1.0</td>\n      <td>11350.0</td>\n      <td>35.833333</td>\n      <td>1.929487</td>\n    </tr>\n    <tr>\n      <th>3</th>\n      <td>139.0</td>\n      <td>1.897417e+09</td>\n      <td>454.0</td>\n      <td>0.0</td>\n      <td>11350.000000</td>\n      <td>0.0</td>\n      <td>0.0</td>\n      <td>NaN</td>\n      <td>NaN</td>\n      <td>NaN</td>\n    </tr>\n    <tr>\n      <th>4</th>\n      <td>15.0</td>\n      <td>1.897417e+09</td>\n      <td>458.0</td>\n      <td>9.0</td>\n      <td>11457.500000</td>\n      <td>3.0</td>\n      <td>3.0</td>\n      <td>11350.0</td>\n      <td>107.500000</td>\n      <td>5.788462</td>\n    </tr>\n    <tr>\n      <th>...</th>\n      <td>...</td>\n      <td>...</td>\n      <td>...</td>\n      <td>...</td>\n      <td>...</td>\n      <td>...</td>\n      <td>...</td>\n      <td>...</td>\n      <td>...</td>\n      <td>...</td>\n    </tr>\n    <tr>\n      <th>122545</th>\n      <td>55.0</td>\n      <td>1.920940e+09</td>\n      <td>325.0</td>\n      <td>4.0</td>\n      <td>8128.333333</td>\n      <td>3.0</td>\n      <td>3.0</td>\n      <td>8225.0</td>\n      <td>96.666667</td>\n      <td>5.205128</td>\n    </tr>\n    <tr>\n      <th>122546</th>\n      <td>56.0</td>\n      <td>1.920940e+09</td>\n      <td>327.0</td>\n      <td>22.0</td>\n      <td>8193.333333</td>\n      <td>3.0</td>\n      <td>1.0</td>\n      <td>8225.0</td>\n      <td>31.666667</td>\n      <td>1.705128</td>\n    </tr>\n    <tr>\n      <th>122547</th>\n      <td>139.0</td>\n      <td>1.920940e+09</td>\n      <td>329.0</td>\n      <td>0.0</td>\n      <td>8225.000000</td>\n      <td>0.0</td>\n      <td>0.0</td>\n      <td>NaN</td>\n      <td>NaN</td>\n      <td>NaN</td>\n    </tr>\n    <tr>\n      <th>122548</th>\n      <td>54.0</td>\n      <td>1.920940e+09</td>\n      <td>331.0</td>\n      <td>20.0</td>\n      <td>8291.666667</td>\n      <td>3.0</td>\n      <td>2.0</td>\n      <td>8225.0</td>\n      <td>66.666667</td>\n      <td>3.589744</td>\n    </tr>\n    <tr>\n      <th>122549</th>\n      <td>53.0</td>\n      <td>1.920940e+09</td>\n      <td>334.0</td>\n      <td>15.0</td>\n      <td>8362.500000</td>\n      <td>3.0</td>\n      <td>4.0</td>\n      <td>8225.0</td>\n      <td>137.500000</td>\n      <td>7.403846</td>\n    </tr>\n  </tbody>\n</table>\n<p>122550 rows × 10 columns</p>\n</div>"
     },
     "metadata": {},
     "execution_count": 28
    }
   ],
   "source": [
    "df = dataset.copy()\n",
    "df[\"TIME_PEDESTAL\"] = np.nan\n",
    "\n",
    "def assign_time_pedestal(group) :\n",
    "    t0 = group[\"TIME\"][group.DETECTOR == 0].values #.astype(float)\n",
    "    group[\"TIME_PEDESTAL\"][group.DETECTOR != 0] = t0\n",
    "    return group\n",
    "\n",
    "df = df.groupby(['ORBIT_CNT'],group_keys=False)\\\n",
    "                     .apply(assign_time_pedestal)\\\n",
    "                     .reset_index()\\\n",
    "                     .drop(['index'],axis=1) #niente dropna per non perdere i trigger\n",
    "\n",
    "df[\"DRIFT_TIME\"] = np.abs(df.TIME.values - df.TIME_PEDESTAL)\n",
    "df[\"HOR_AMBIG_COORD\"] = 42/(2*390)*df.DRIFT_TIME\n",
    "df"
   ]
  },
  {
   "cell_type": "code",
   "execution_count": 13,
   "metadata": {},
   "outputs": [],
   "source": [
    "# #per valutare le performance\n",
    "# def f1() :\n",
    "#     df = dataset.copy()\n",
    "#     df[\"DRIFT_TIME\"] = np.nan\n",
    "#     df[\"HOR_AMBIG_COORD\"] = np.nan\n",
    "#     #display(df)\n",
    "#     #df.dtypes\n",
    "\n",
    "#     def compute_drift_time(x) :\n",
    "#         v = 42/(2*390) #drift velocity in mm/ns\n",
    "#         #trigger_index = x[x['DETECTOR'] == 0].index\n",
    "#         #t0 = x.TIME[trigger_index]\n",
    "#         t0 = x.TIME[x['DETECTOR'] == 0].values #lavorare con le series dà problemi, numpy invece no\n",
    "#         l = x.DETECTOR != 0 #lascio il nan ai trigger\n",
    "#         x.DRIFT_TIME[l] = np.abs(x.TIME[l].values - t0)\n",
    "#         x.HOR_AMBIG_COORD[l] = v*np.abs(x.TIME[l] - t0)\n",
    "#         return x\n",
    "\n",
    "#     df = df.groupby(['ORBIT_CNT'],group_keys=False)\\\n",
    "#                         .apply(compute_drift_time)\\\n",
    "#                         .reset_index()\\\n",
    "#                         .drop(['index'],axis=1) #niente dropna per non perdere i trigger\n",
    "\n",
    "# def f2() :\n",
    "#     df = dataset.copy()\n",
    "#     df[\"TIME_PEDESTAL\"] = np.nan\n",
    "\n",
    "#     def assign_time_pedestal(group) :\n",
    "#         t0 = group[\"TIME\"][group.DETECTOR == 0].values #.astype(float)\n",
    "#         group[\"TIME_PEDESTAL\"][group.DETECTOR != 0] = t0\n",
    "#         return group\n",
    "\n",
    "#     df = df.groupby(['ORBIT_CNT'],group_keys=False)\\\n",
    "#                         .apply(assign_time_pedestal)\\\n",
    "#                         .reset_index()\\\n",
    "#                         .drop(['index'],axis=1) #niente dropna per non perdere i trigger\n",
    "\n",
    "#     df[\"DRIFT_TIME\"] = np.abs(df.TIME.values - df.TIME_PEDESTAL)\n",
    "#     df[\"HOR_AMIG_COORD\"] = 42/(2*390)*df.DRIFT_TIME"
   ]
  },
  {
   "cell_type": "code",
   "execution_count": 16,
   "metadata": {},
   "outputs": [
    {
     "output_type": "stream",
     "name": "stdout",
     "text": [
      "1min 1s ± 531 ms per loop (mean ± std. dev. of 7 runs, 1 loop each)\n"
     ]
    }
   ],
   "source": [
    "#%prun f1()\n",
    "#%timeit f1()\n",
    "#1min 1s ± 531 ms per loop (mean ± std. dev. of 7 runs, 1 loop each)"
   ]
  },
  {
   "cell_type": "code",
   "execution_count": 17,
   "metadata": {},
   "outputs": [
    {
     "output_type": "stream",
     "name": "stdout",
     "text": [
      "26.2 s ± 254 ms per loop (mean ± std. dev. of 7 runs, 1 loop each)\n"
     ]
    }
   ],
   "source": [
    "#%prun f2()\n",
    "#%timeit f2()\n",
    "#26.2 s ± 254 ms per loop (mean ± std. dev. of 7 runs, 1 loop each)"
   ]
  },
  {
   "source": [
    "La funzione seguente calcola in modo vettorizzato ed efficiente la colonna \"COLUMN\", che rappresenta il numero (compreso fra 1 e 16) associato alla cella del layer opportuno del \"rettangolo\" in cui si trova un dato hit. Per contare le boxes in modo tradizionale bisogna eliminare la convenzione strana di default, il che impone un conteggio layer dependent. In ogni layer da una box a quella immediatamente a destra TDC_CHANNEL salta di +4 unità; pertanto se i TDC_CHANNEL delle boxes consecutive in un fissato layer sono x1,x2,...,x16 dividendo per 4 possiamo mappare la successione `[x1,x2,...,x16]` in quella voluta `[1,2,...,16]` a meno di resto - dovuto al fatto che solo un layer contiene multipli di 4. Per compensare questo resto possiamo sommare/sottrarre un valore layer dependent al TDC_CHANNEL in modo da costruire multipli di 4, dopodiché se dividiamo per 4 e castiamo a intero (in modo di fatto da approssimare per difetto) otteniamo `[0,1,...,15]`, che con un +1 diventa l'intervallo voluto. In questo modo si costruisce la corretta mappa layer dependent dalla successione iniziale a quella voluta (da 1 a 16).  \n",
    "`BarycentricInterpolator([x1,x2,x3,x4],[y1,y2,y3,y4])` è una interpolazione che dà il polinomio che attraversa i punti `[x1,y1]` eccetera; valutata su layer (cioè proprio in corrispondenza di `[x1,x2,x3,x4]`=`[1,2,3,4]`) ci restituisce i valori layer dependent che ci servono in quanto stiamo valutando il polinomio proprio nei punti utilizzati per costruirlo. Questa operazione è vettorizzata, efficiente e analoga al dic_replace visto nel documento precedente.  \n",
    "Ovviamente è comodo ricondurre l'intervallo `[65,128]` a quello `[1,64]` in quanto i TDC_CHANNEL che superano 64 lo fanno solo perché si riferiscono ad un altro detector (ma la geometria della mappa discussa finora è la stessa)"
   ],
   "cell_type": "markdown",
   "metadata": {}
  },
  {
   "cell_type": "code",
   "execution_count": 29,
   "metadata": {},
   "outputs": [
    {
     "output_type": "execute_result",
     "data": {
      "text/plain": [
       "        TDC_CHANNEL     ORBIT_CNT  BX_COUNTER  TDC_MEAS          TIME  \\\n",
       "0              13.0  1.897417e+09       445.0      24.0  11145.000000   \n",
       "1              14.0  1.897417e+09       450.0       9.0  11257.500000   \n",
       "2              16.0  1.897417e+09       452.0      17.0  11314.166667   \n",
       "3             139.0  1.897417e+09       454.0       0.0  11350.000000   \n",
       "4              15.0  1.897417e+09       458.0       9.0  11457.500000   \n",
       "...             ...           ...         ...       ...           ...   \n",
       "122545         55.0  1.920940e+09       325.0       4.0   8128.333333   \n",
       "122546         56.0  1.920940e+09       327.0      22.0   8193.333333   \n",
       "122547        139.0  1.920940e+09       329.0       0.0   8225.000000   \n",
       "122548         54.0  1.920940e+09       331.0      20.0   8291.666667   \n",
       "122549         53.0  1.920940e+09       334.0      15.0   8362.500000   \n",
       "\n",
       "        DETECTOR  LAYER  TIME_PEDESTAL  DRIFT_TIME  HOR_AMBIG_COORD  COLUMN  \n",
       "0            3.0    4.0        11350.0  205.000000        11.038462       3  \n",
       "1            3.0    2.0        11350.0   92.500000         4.980769       3  \n",
       "2            3.0    1.0        11350.0   35.833333         1.929487       4  \n",
       "3            0.0    0.0            NaN         NaN              NaN      22  \n",
       "4            3.0    3.0        11350.0  107.500000         5.788462       4  \n",
       "...          ...    ...            ...         ...              ...     ...  \n",
       "122545       3.0    3.0         8225.0   96.666667         5.205128      14  \n",
       "122546       3.0    1.0         8225.0   31.666667         1.705128      14  \n",
       "122547       0.0    0.0            NaN         NaN              NaN      22  \n",
       "122548       3.0    2.0         8225.0   66.666667         3.589744      13  \n",
       "122549       3.0    4.0         8225.0  137.500000         7.403846      13  \n",
       "\n",
       "[122550 rows x 11 columns]"
      ],
      "text/html": "<div>\n<style scoped>\n    .dataframe tbody tr th:only-of-type {\n        vertical-align: middle;\n    }\n\n    .dataframe tbody tr th {\n        vertical-align: top;\n    }\n\n    .dataframe thead th {\n        text-align: right;\n    }\n</style>\n<table border=\"1\" class=\"dataframe\">\n  <thead>\n    <tr style=\"text-align: right;\">\n      <th></th>\n      <th>TDC_CHANNEL</th>\n      <th>ORBIT_CNT</th>\n      <th>BX_COUNTER</th>\n      <th>TDC_MEAS</th>\n      <th>TIME</th>\n      <th>DETECTOR</th>\n      <th>LAYER</th>\n      <th>TIME_PEDESTAL</th>\n      <th>DRIFT_TIME</th>\n      <th>HOR_AMBIG_COORD</th>\n      <th>COLUMN</th>\n    </tr>\n  </thead>\n  <tbody>\n    <tr>\n      <th>0</th>\n      <td>13.0</td>\n      <td>1.897417e+09</td>\n      <td>445.0</td>\n      <td>24.0</td>\n      <td>11145.000000</td>\n      <td>3.0</td>\n      <td>4.0</td>\n      <td>11350.0</td>\n      <td>205.000000</td>\n      <td>11.038462</td>\n      <td>3</td>\n    </tr>\n    <tr>\n      <th>1</th>\n      <td>14.0</td>\n      <td>1.897417e+09</td>\n      <td>450.0</td>\n      <td>9.0</td>\n      <td>11257.500000</td>\n      <td>3.0</td>\n      <td>2.0</td>\n      <td>11350.0</td>\n      <td>92.500000</td>\n      <td>4.980769</td>\n      <td>3</td>\n    </tr>\n    <tr>\n      <th>2</th>\n      <td>16.0</td>\n      <td>1.897417e+09</td>\n      <td>452.0</td>\n      <td>17.0</td>\n      <td>11314.166667</td>\n      <td>3.0</td>\n      <td>1.0</td>\n      <td>11350.0</td>\n      <td>35.833333</td>\n      <td>1.929487</td>\n      <td>4</td>\n    </tr>\n    <tr>\n      <th>3</th>\n      <td>139.0</td>\n      <td>1.897417e+09</td>\n      <td>454.0</td>\n      <td>0.0</td>\n      <td>11350.000000</td>\n      <td>0.0</td>\n      <td>0.0</td>\n      <td>NaN</td>\n      <td>NaN</td>\n      <td>NaN</td>\n      <td>22</td>\n    </tr>\n    <tr>\n      <th>4</th>\n      <td>15.0</td>\n      <td>1.897417e+09</td>\n      <td>458.0</td>\n      <td>9.0</td>\n      <td>11457.500000</td>\n      <td>3.0</td>\n      <td>3.0</td>\n      <td>11350.0</td>\n      <td>107.500000</td>\n      <td>5.788462</td>\n      <td>4</td>\n    </tr>\n    <tr>\n      <th>...</th>\n      <td>...</td>\n      <td>...</td>\n      <td>...</td>\n      <td>...</td>\n      <td>...</td>\n      <td>...</td>\n      <td>...</td>\n      <td>...</td>\n      <td>...</td>\n      <td>...</td>\n      <td>...</td>\n    </tr>\n    <tr>\n      <th>122545</th>\n      <td>55.0</td>\n      <td>1.920940e+09</td>\n      <td>325.0</td>\n      <td>4.0</td>\n      <td>8128.333333</td>\n      <td>3.0</td>\n      <td>3.0</td>\n      <td>8225.0</td>\n      <td>96.666667</td>\n      <td>5.205128</td>\n      <td>14</td>\n    </tr>\n    <tr>\n      <th>122546</th>\n      <td>56.0</td>\n      <td>1.920940e+09</td>\n      <td>327.0</td>\n      <td>22.0</td>\n      <td>8193.333333</td>\n      <td>3.0</td>\n      <td>1.0</td>\n      <td>8225.0</td>\n      <td>31.666667</td>\n      <td>1.705128</td>\n      <td>14</td>\n    </tr>\n    <tr>\n      <th>122547</th>\n      <td>139.0</td>\n      <td>1.920940e+09</td>\n      <td>329.0</td>\n      <td>0.0</td>\n      <td>8225.000000</td>\n      <td>0.0</td>\n      <td>0.0</td>\n      <td>NaN</td>\n      <td>NaN</td>\n      <td>NaN</td>\n      <td>22</td>\n    </tr>\n    <tr>\n      <th>122548</th>\n      <td>54.0</td>\n      <td>1.920940e+09</td>\n      <td>331.0</td>\n      <td>20.0</td>\n      <td>8291.666667</td>\n      <td>3.0</td>\n      <td>2.0</td>\n      <td>8225.0</td>\n      <td>66.666667</td>\n      <td>3.589744</td>\n      <td>13</td>\n    </tr>\n    <tr>\n      <th>122549</th>\n      <td>53.0</td>\n      <td>1.920940e+09</td>\n      <td>334.0</td>\n      <td>15.0</td>\n      <td>8362.500000</td>\n      <td>3.0</td>\n      <td>4.0</td>\n      <td>8225.0</td>\n      <td>137.500000</td>\n      <td>7.403846</td>\n      <td>13</td>\n    </tr>\n  </tbody>\n</table>\n<p>122550 rows × 11 columns</p>\n</div>"
     },
     "metadata": {},
     "execution_count": 29
    }
   ],
   "source": [
    "#add column coordinate of the cell\n",
    "def minus64(x):\n",
    "    #if x <= 64:\n",
    "    if x < 65:\n",
    "        return x\n",
    "    else:\n",
    "        return x - 64\n",
    "    \n",
    "df['COLUMN'] = ((df['TDC_CHANNEL'].apply(minus64)\n",
    "                   - interpolate.BarycentricInterpolator([1,2,3,4],[1,3,2,4])(df['LAYER'])) / 4 + 1).astype(int)\n",
    "\n",
    "df"
   ]
  },
  {
   "cell_type": "code",
   "execution_count": 15,
   "metadata": {},
   "outputs": [
    {
     "output_type": "stream",
     "name": "stdout",
     "text": [
      "37.9 ms ± 525 µs per loop (mean ± std. dev. of 7 runs, 10 loops each)\n"
     ]
    }
   ],
   "source": [
    "#%timeit df['COLUMN'] = ((df['TDC_CHANNEL'].apply(minus64) - interpolate.BarycentricInterpolator([1,2,3,4],[1,3,2,4])(df['LAYER'])) / 4 + 1).astype(int)\n",
    "#38.7 ms ± 480 µs per loop (mean ± std. dev. of 7 runs, 10 loops each) con il <=, 37.9 ms ± 525 µs per loop (mean ± std. dev. of 7 runs, 10 loops each) con il <"
   ]
  },
  {
   "cell_type": "code",
   "execution_count": null,
   "metadata": {},
   "outputs": [],
   "source": [
    "#preso paro paro da Mattia\n",
    "def event_plot(event):\n",
    "    \n",
    "    fig,ax1 = plt.subplots(figsize=(1.5*4.2*17,1.5*1.3*6))\n",
    "    \n",
    "    #dimensions of cells\n",
    "    dx=42\n",
    "    dy=13\n",
    "    \n",
    "    x = []\n",
    "    y = []\n",
    "    for i in range(len(event)):\n",
    "        hit = event.iloc[i]\n",
    "        y1 = dy * (4 - hit.LAYER + 1/2)\n",
    "        y.append(y1)\n",
    "        y.append(y1)\n",
    "        if hit.LAYER%2 == 0:\n",
    "            x1 = dx * (hit.COLUMN - 1/2) + hit.X \n",
    "            x2 = dx * (hit.COLUMN - 1/2) - hit.X \n",
    "            x.append(x1)\n",
    "            x.append(x2)\n",
    "        else:\n",
    "            x1 = dx * hit.COLUMN + hit.X \n",
    "            x2 = dx * hit.COLUMN - hit.X \n",
    "            x.append(x1)\n",
    "            x.append(x2)\n",
    "            \n",
    "\n",
    "    #draw the detector\n",
    "    ax1.set_xlim(0,42*16 + 42)\n",
    "    ax1.set_ylim(-13,13*4 + 13)\n",
    "\n",
    "\n",
    "    #coordinates of layer 4\n",
    "    x_1 = np.arange(1,17)*42-dx\n",
    "    y_1 = 0\n",
    "    \n",
    "    #coordinates of layer 3\n",
    "    x_2 = x_1 + dx/2\n",
    "    y_2 = dy\n",
    "    \n",
    "    #coordinates of layer 2\n",
    "    x_3 = x_1\n",
    "    y_3 = 2*dy\n",
    "    \n",
    "    #coordinates of layer 1\n",
    "    x_4 = x_2\n",
    "    y_4 = 3*dy\n",
    "    \n",
    "    for i in range(16):\n",
    "        rect = patches.Rectangle((x_1[i],y_1),dx,dy,linewidth=10,edgecolor='black',facecolor='none')\n",
    "        ax1.add_patch(rect)\n",
    "    \n",
    "        rect = patches.Rectangle((x_2[i],y_2),dx,dy,linewidth=10,edgecolor='black',facecolor='none')\n",
    "        ax1.add_patch(rect)\n",
    "    \n",
    "        rect = patches.Rectangle((x_3[i],y_3),dx,dy,linewidth=10,edgecolor='black',facecolor='none')\n",
    "        ax1.add_patch(rect)\n",
    "        \n",
    "        rect = patches.Rectangle((x_4[i],y_4),dx,dy,linewidth=10,edgecolor='black',facecolor='none')\n",
    "        ax1.add_patch(rect)\n",
    "        \n",
    "        ax1.axis('off')\n",
    "        \n",
    "    ax1.scatter(x,y, marker = 'x', c = 'red', s = 500, linewidth = 7)\n",
    "    return ax1"
   ]
  },
  {
   "cell_type": "code",
   "execution_count": null,
   "metadata": {},
   "outputs": [],
   "source": [
    "#preso paro paro da Mattia. Nota: dovrebbe essere solido sia all'ordine 0 che 2\n",
    "#per coerenza con Mattia rinomino le colonne adattandomi alla sua convenzione (se no dovrei modificare la funzione)\n",
    "df.rename(columns={\"HOR_AMBIG_COORD\":\"X\"},inplace=True)\n",
    "\n",
    "for i in np.unique(data_139prova.ORBIT_CNT.values)[:10]:\n",
    "    try:\n",
    "        event = data_139prova.groupby(['ORBIT_CNT','EVENT']).get_group((i,1))\n",
    "        event_plot(event)\n",
    "    except:\n",
    "        event = data_139prova.groupby(['ORBIT_CNT']).get_group(i)\n",
    "        event_plot(event)"
   ]
  },
  {
   "cell_type": "code",
   "execution_count": 40,
   "metadata": {},
   "outputs": [
    {
     "output_type": "display_data",
     "data": {
      "text/plain": "<Figure size 432x288 with 1 Axes>",
      "image/svg+xml": "<?xml version=\"1.0\" encoding=\"utf-8\" standalone=\"no\"?>\r\n<!DOCTYPE svg PUBLIC \"-//W3C//DTD SVG 1.1//EN\"\r\n  \"http://www.w3.org/Graphics/SVG/1.1/DTD/svg11.dtd\">\r\n<!-- Created with matplotlib (https://matplotlib.org/) -->\r\n<svg height=\"263.3025pt\" version=\"1.1\" viewBox=\"0 0 394.375 263.3025\" width=\"394.375pt\" xmlns=\"http://www.w3.org/2000/svg\" xmlns:xlink=\"http://www.w3.org/1999/xlink\">\r\n <metadata>\r\n  <rdf:RDF xmlns:cc=\"http://creativecommons.org/ns#\" xmlns:dc=\"http://purl.org/dc/elements/1.1/\" xmlns:rdf=\"http://www.w3.org/1999/02/22-rdf-syntax-ns#\">\r\n   <cc:Work>\r\n    <dc:type rdf:resource=\"http://purl.org/dc/dcmitype/StillImage\"/>\r\n    <dc:date>2021-01-29T18:29:40.125605</dc:date>\r\n    <dc:format>image/svg+xml</dc:format>\r\n    <dc:creator>\r\n     <cc:Agent>\r\n      <dc:title>Matplotlib v3.3.3, https://matplotlib.org/</dc:title>\r\n     </cc:Agent>\r\n    </dc:creator>\r\n   </cc:Work>\r\n  </rdf:RDF>\r\n </metadata>\r\n <defs>\r\n  <style type=\"text/css\">*{stroke-linecap:butt;stroke-linejoin:round;}</style>\r\n </defs>\r\n <g id=\"figure_1\">\r\n  <g id=\"patch_1\">\r\n   <path d=\"M 0 263.3025 \r\nL 394.375 263.3025 \r\nL 394.375 0 \r\nL 0 0 \r\nz\r\n\" style=\"fill:none;\"/>\r\n  </g>\r\n  <g id=\"axes_1\">\r\n   <g id=\"patch_2\">\r\n    <path d=\"M 52.375 239.424375 \r\nL 387.175 239.424375 \r\nL 387.175 21.984375 \r\nL 52.375 21.984375 \r\nz\r\n\" style=\"fill:#ffffff;\"/>\r\n   </g>\r\n   <g id=\"patch_3\">\r\n    <path clip-path=\"url(#p21007b806c)\" d=\"M 67.593182 239.424375 \r\nL 371.956818 239.424375 \r\nL 371.956818 32.338661 \r\nL 67.593182 32.338661 \r\nz\r\n\" style=\"fill:#1f77b4;\"/>\r\n   </g>\r\n   <g id=\"matplotlib.axis_1\">\r\n    <g id=\"xtick_1\">\r\n     <g id=\"line2d_1\">\r\n      <path clip-path=\"url(#p21007b806c)\" d=\"M 67.593182 239.424375 \r\nL 67.593182 21.984375 \r\n\" style=\"fill:none;stroke:#b0b0b0;stroke-linecap:square;stroke-width:0.8;\"/>\r\n     </g>\r\n     <g id=\"line2d_2\">\r\n      <defs>\r\n       <path d=\"M 0 0 \r\nL 0 3.5 \r\n\" id=\"m75046b99bf\" style=\"stroke:#000000;stroke-width:0.8;\"/>\r\n      </defs>\r\n      <g>\r\n       <use style=\"stroke:#000000;stroke-width:0.8;\" x=\"67.593182\" xlink:href=\"#m75046b99bf\" y=\"239.424375\"/>\r\n      </g>\r\n     </g>\r\n     <g id=\"text_1\">\r\n      <!-- 0 -->\r\n      <g transform=\"translate(64.411932 254.022813)scale(0.1 -0.1)\">\r\n       <defs>\r\n        <path d=\"M 31.78125 66.40625 \r\nQ 24.171875 66.40625 20.328125 58.90625 \r\nQ 16.5 51.421875 16.5 36.375 \r\nQ 16.5 21.390625 20.328125 13.890625 \r\nQ 24.171875 6.390625 31.78125 6.390625 \r\nQ 39.453125 6.390625 43.28125 13.890625 \r\nQ 47.125 21.390625 47.125 36.375 \r\nQ 47.125 51.421875 43.28125 58.90625 \r\nQ 39.453125 66.40625 31.78125 66.40625 \r\nz\r\nM 31.78125 74.21875 \r\nQ 44.046875 74.21875 50.515625 64.515625 \r\nQ 56.984375 54.828125 56.984375 36.375 \r\nQ 56.984375 17.96875 50.515625 8.265625 \r\nQ 44.046875 -1.421875 31.78125 -1.421875 \r\nQ 19.53125 -1.421875 13.0625 8.265625 \r\nQ 6.59375 17.96875 6.59375 36.375 \r\nQ 6.59375 54.828125 13.0625 64.515625 \r\nQ 19.53125 74.21875 31.78125 74.21875 \r\nz\r\n\" id=\"DejaVuSans-48\"/>\r\n       </defs>\r\n       <use xlink:href=\"#DejaVuSans-48\"/>\r\n      </g>\r\n     </g>\r\n    </g>\r\n    <g id=\"xtick_2\">\r\n     <g id=\"line2d_3\">\r\n      <path clip-path=\"url(#p21007b806c)\" d=\"M 138.907516 239.424375 \r\nL 138.907516 21.984375 \r\n\" style=\"fill:none;stroke:#b0b0b0;stroke-linecap:square;stroke-width:0.8;\"/>\r\n     </g>\r\n     <g id=\"line2d_4\">\r\n      <g>\r\n       <use style=\"stroke:#000000;stroke-width:0.8;\" x=\"138.907516\" xlink:href=\"#m75046b99bf\" y=\"239.424375\"/>\r\n      </g>\r\n     </g>\r\n     <g id=\"text_2\">\r\n      <!-- 20000 -->\r\n      <g transform=\"translate(123.001266 254.022813)scale(0.1 -0.1)\">\r\n       <defs>\r\n        <path d=\"M 19.1875 8.296875 \r\nL 53.609375 8.296875 \r\nL 53.609375 0 \r\nL 7.328125 0 \r\nL 7.328125 8.296875 \r\nQ 12.9375 14.109375 22.625 23.890625 \r\nQ 32.328125 33.6875 34.8125 36.53125 \r\nQ 39.546875 41.84375 41.421875 45.53125 \r\nQ 43.3125 49.21875 43.3125 52.78125 \r\nQ 43.3125 58.59375 39.234375 62.25 \r\nQ 35.15625 65.921875 28.609375 65.921875 \r\nQ 23.96875 65.921875 18.8125 64.3125 \r\nQ 13.671875 62.703125 7.8125 59.421875 \r\nL 7.8125 69.390625 \r\nQ 13.765625 71.78125 18.9375 73 \r\nQ 24.125 74.21875 28.421875 74.21875 \r\nQ 39.75 74.21875 46.484375 68.546875 \r\nQ 53.21875 62.890625 53.21875 53.421875 \r\nQ 53.21875 48.921875 51.53125 44.890625 \r\nQ 49.859375 40.875 45.40625 35.40625 \r\nQ 44.1875 33.984375 37.640625 27.21875 \r\nQ 31.109375 20.453125 19.1875 8.296875 \r\nz\r\n\" id=\"DejaVuSans-50\"/>\r\n       </defs>\r\n       <use xlink:href=\"#DejaVuSans-50\"/>\r\n       <use x=\"63.623047\" xlink:href=\"#DejaVuSans-48\"/>\r\n       <use x=\"127.246094\" xlink:href=\"#DejaVuSans-48\"/>\r\n       <use x=\"190.869141\" xlink:href=\"#DejaVuSans-48\"/>\r\n       <use x=\"254.492188\" xlink:href=\"#DejaVuSans-48\"/>\r\n      </g>\r\n     </g>\r\n    </g>\r\n    <g id=\"xtick_3\">\r\n     <g id=\"line2d_5\">\r\n      <path clip-path=\"url(#p21007b806c)\" d=\"M 210.221851 239.424375 \r\nL 210.221851 21.984375 \r\n\" style=\"fill:none;stroke:#b0b0b0;stroke-linecap:square;stroke-width:0.8;\"/>\r\n     </g>\r\n     <g id=\"line2d_6\">\r\n      <g>\r\n       <use style=\"stroke:#000000;stroke-width:0.8;\" x=\"210.221851\" xlink:href=\"#m75046b99bf\" y=\"239.424375\"/>\r\n      </g>\r\n     </g>\r\n     <g id=\"text_3\">\r\n      <!-- 40000 -->\r\n      <g transform=\"translate(194.315601 254.022813)scale(0.1 -0.1)\">\r\n       <defs>\r\n        <path d=\"M 37.796875 64.3125 \r\nL 12.890625 25.390625 \r\nL 37.796875 25.390625 \r\nz\r\nM 35.203125 72.90625 \r\nL 47.609375 72.90625 \r\nL 47.609375 25.390625 \r\nL 58.015625 25.390625 \r\nL 58.015625 17.1875 \r\nL 47.609375 17.1875 \r\nL 47.609375 0 \r\nL 37.796875 0 \r\nL 37.796875 17.1875 \r\nL 4.890625 17.1875 \r\nL 4.890625 26.703125 \r\nz\r\n\" id=\"DejaVuSans-52\"/>\r\n       </defs>\r\n       <use xlink:href=\"#DejaVuSans-52\"/>\r\n       <use x=\"63.623047\" xlink:href=\"#DejaVuSans-48\"/>\r\n       <use x=\"127.246094\" xlink:href=\"#DejaVuSans-48\"/>\r\n       <use x=\"190.869141\" xlink:href=\"#DejaVuSans-48\"/>\r\n       <use x=\"254.492188\" xlink:href=\"#DejaVuSans-48\"/>\r\n      </g>\r\n     </g>\r\n    </g>\r\n    <g id=\"xtick_4\">\r\n     <g id=\"line2d_7\">\r\n      <path clip-path=\"url(#p21007b806c)\" d=\"M 281.536185 239.424375 \r\nL 281.536185 21.984375 \r\n\" style=\"fill:none;stroke:#b0b0b0;stroke-linecap:square;stroke-width:0.8;\"/>\r\n     </g>\r\n     <g id=\"line2d_8\">\r\n      <g>\r\n       <use style=\"stroke:#000000;stroke-width:0.8;\" x=\"281.536185\" xlink:href=\"#m75046b99bf\" y=\"239.424375\"/>\r\n      </g>\r\n     </g>\r\n     <g id=\"text_4\">\r\n      <!-- 60000 -->\r\n      <g transform=\"translate(265.629935 254.022813)scale(0.1 -0.1)\">\r\n       <defs>\r\n        <path d=\"M 33.015625 40.375 \r\nQ 26.375 40.375 22.484375 35.828125 \r\nQ 18.609375 31.296875 18.609375 23.390625 \r\nQ 18.609375 15.53125 22.484375 10.953125 \r\nQ 26.375 6.390625 33.015625 6.390625 \r\nQ 39.65625 6.390625 43.53125 10.953125 \r\nQ 47.40625 15.53125 47.40625 23.390625 \r\nQ 47.40625 31.296875 43.53125 35.828125 \r\nQ 39.65625 40.375 33.015625 40.375 \r\nz\r\nM 52.59375 71.296875 \r\nL 52.59375 62.3125 \r\nQ 48.875 64.0625 45.09375 64.984375 \r\nQ 41.3125 65.921875 37.59375 65.921875 \r\nQ 27.828125 65.921875 22.671875 59.328125 \r\nQ 17.53125 52.734375 16.796875 39.40625 \r\nQ 19.671875 43.65625 24.015625 45.921875 \r\nQ 28.375 48.1875 33.59375 48.1875 \r\nQ 44.578125 48.1875 50.953125 41.515625 \r\nQ 57.328125 34.859375 57.328125 23.390625 \r\nQ 57.328125 12.15625 50.6875 5.359375 \r\nQ 44.046875 -1.421875 33.015625 -1.421875 \r\nQ 20.359375 -1.421875 13.671875 8.265625 \r\nQ 6.984375 17.96875 6.984375 36.375 \r\nQ 6.984375 53.65625 15.1875 63.9375 \r\nQ 23.390625 74.21875 37.203125 74.21875 \r\nQ 40.921875 74.21875 44.703125 73.484375 \r\nQ 48.484375 72.75 52.59375 71.296875 \r\nz\r\n\" id=\"DejaVuSans-54\"/>\r\n       </defs>\r\n       <use xlink:href=\"#DejaVuSans-54\"/>\r\n       <use x=\"63.623047\" xlink:href=\"#DejaVuSans-48\"/>\r\n       <use x=\"127.246094\" xlink:href=\"#DejaVuSans-48\"/>\r\n       <use x=\"190.869141\" xlink:href=\"#DejaVuSans-48\"/>\r\n       <use x=\"254.492188\" xlink:href=\"#DejaVuSans-48\"/>\r\n      </g>\r\n     </g>\r\n    </g>\r\n    <g id=\"xtick_5\">\r\n     <g id=\"line2d_9\">\r\n      <path clip-path=\"url(#p21007b806c)\" d=\"M 352.850519 239.424375 \r\nL 352.850519 21.984375 \r\n\" style=\"fill:none;stroke:#b0b0b0;stroke-linecap:square;stroke-width:0.8;\"/>\r\n     </g>\r\n     <g id=\"line2d_10\">\r\n      <g>\r\n       <use style=\"stroke:#000000;stroke-width:0.8;\" x=\"352.850519\" xlink:href=\"#m75046b99bf\" y=\"239.424375\"/>\r\n      </g>\r\n     </g>\r\n     <g id=\"text_5\">\r\n      <!-- 80000 -->\r\n      <g transform=\"translate(336.944269 254.022813)scale(0.1 -0.1)\">\r\n       <defs>\r\n        <path d=\"M 31.78125 34.625 \r\nQ 24.75 34.625 20.71875 30.859375 \r\nQ 16.703125 27.09375 16.703125 20.515625 \r\nQ 16.703125 13.921875 20.71875 10.15625 \r\nQ 24.75 6.390625 31.78125 6.390625 \r\nQ 38.8125 6.390625 42.859375 10.171875 \r\nQ 46.921875 13.96875 46.921875 20.515625 \r\nQ 46.921875 27.09375 42.890625 30.859375 \r\nQ 38.875 34.625 31.78125 34.625 \r\nz\r\nM 21.921875 38.8125 \r\nQ 15.578125 40.375 12.03125 44.71875 \r\nQ 8.5 49.078125 8.5 55.328125 \r\nQ 8.5 64.0625 14.71875 69.140625 \r\nQ 20.953125 74.21875 31.78125 74.21875 \r\nQ 42.671875 74.21875 48.875 69.140625 \r\nQ 55.078125 64.0625 55.078125 55.328125 \r\nQ 55.078125 49.078125 51.53125 44.71875 \r\nQ 48 40.375 41.703125 38.8125 \r\nQ 48.828125 37.15625 52.796875 32.3125 \r\nQ 56.78125 27.484375 56.78125 20.515625 \r\nQ 56.78125 9.90625 50.3125 4.234375 \r\nQ 43.84375 -1.421875 31.78125 -1.421875 \r\nQ 19.734375 -1.421875 13.25 4.234375 \r\nQ 6.78125 9.90625 6.78125 20.515625 \r\nQ 6.78125 27.484375 10.78125 32.3125 \r\nQ 14.796875 37.15625 21.921875 38.8125 \r\nz\r\nM 18.3125 54.390625 \r\nQ 18.3125 48.734375 21.84375 45.5625 \r\nQ 25.390625 42.390625 31.78125 42.390625 \r\nQ 38.140625 42.390625 41.71875 45.5625 \r\nQ 45.3125 48.734375 45.3125 54.390625 \r\nQ 45.3125 60.0625 41.71875 63.234375 \r\nQ 38.140625 66.40625 31.78125 66.40625 \r\nQ 25.390625 66.40625 21.84375 63.234375 \r\nQ 18.3125 60.0625 18.3125 54.390625 \r\nz\r\n\" id=\"DejaVuSans-56\"/>\r\n       </defs>\r\n       <use xlink:href=\"#DejaVuSans-56\"/>\r\n       <use x=\"63.623047\" xlink:href=\"#DejaVuSans-48\"/>\r\n       <use x=\"127.246094\" xlink:href=\"#DejaVuSans-48\"/>\r\n       <use x=\"190.869141\" xlink:href=\"#DejaVuSans-48\"/>\r\n       <use x=\"254.492188\" xlink:href=\"#DejaVuSans-48\"/>\r\n      </g>\r\n     </g>\r\n    </g>\r\n   </g>\r\n   <g id=\"matplotlib.axis_2\">\r\n    <g id=\"ytick_1\">\r\n     <g id=\"line2d_11\">\r\n      <path clip-path=\"url(#p21007b806c)\" d=\"M 52.375 239.424375 \r\nL 387.175 239.424375 \r\n\" style=\"fill:none;stroke:#b0b0b0;stroke-linecap:square;stroke-width:0.8;\"/>\r\n     </g>\r\n     <g id=\"line2d_12\">\r\n      <defs>\r\n       <path d=\"M 0 0 \r\nL -3.5 0 \r\n\" id=\"mfbf4d38b4b\" style=\"stroke:#000000;stroke-width:0.8;\"/>\r\n      </defs>\r\n      <g>\r\n       <use style=\"stroke:#000000;stroke-width:0.8;\" x=\"52.375\" xlink:href=\"#mfbf4d38b4b\" y=\"239.424375\"/>\r\n      </g>\r\n     </g>\r\n     <g id=\"text_6\">\r\n      <!-- 0 -->\r\n      <g transform=\"translate(39.0125 243.223594)scale(0.1 -0.1)\">\r\n       <use xlink:href=\"#DejaVuSans-48\"/>\r\n      </g>\r\n     </g>\r\n    </g>\r\n    <g id=\"ytick_2\">\r\n     <g id=\"line2d_13\">\r\n      <path clip-path=\"url(#p21007b806c)\" d=\"M 52.375 197.030043 \r\nL 387.175 197.030043 \r\n\" style=\"fill:none;stroke:#b0b0b0;stroke-linecap:square;stroke-width:0.8;\"/>\r\n     </g>\r\n     <g id=\"line2d_14\">\r\n      <g>\r\n       <use style=\"stroke:#000000;stroke-width:0.8;\" x=\"52.375\" xlink:href=\"#mfbf4d38b4b\" y=\"197.030043\"/>\r\n      </g>\r\n     </g>\r\n     <g id=\"text_7\">\r\n      <!-- 20000 -->\r\n      <g transform=\"translate(13.5625 200.829262)scale(0.1 -0.1)\">\r\n       <use xlink:href=\"#DejaVuSans-50\"/>\r\n       <use x=\"63.623047\" xlink:href=\"#DejaVuSans-48\"/>\r\n       <use x=\"127.246094\" xlink:href=\"#DejaVuSans-48\"/>\r\n       <use x=\"190.869141\" xlink:href=\"#DejaVuSans-48\"/>\r\n       <use x=\"254.492188\" xlink:href=\"#DejaVuSans-48\"/>\r\n      </g>\r\n     </g>\r\n    </g>\r\n    <g id=\"ytick_3\">\r\n     <g id=\"line2d_15\">\r\n      <path clip-path=\"url(#p21007b806c)\" d=\"M 52.375 154.635711 \r\nL 387.175 154.635711 \r\n\" style=\"fill:none;stroke:#b0b0b0;stroke-linecap:square;stroke-width:0.8;\"/>\r\n     </g>\r\n     <g id=\"line2d_16\">\r\n      <g>\r\n       <use style=\"stroke:#000000;stroke-width:0.8;\" x=\"52.375\" xlink:href=\"#mfbf4d38b4b\" y=\"154.635711\"/>\r\n      </g>\r\n     </g>\r\n     <g id=\"text_8\">\r\n      <!-- 40000 -->\r\n      <g transform=\"translate(13.5625 158.434929)scale(0.1 -0.1)\">\r\n       <use xlink:href=\"#DejaVuSans-52\"/>\r\n       <use x=\"63.623047\" xlink:href=\"#DejaVuSans-48\"/>\r\n       <use x=\"127.246094\" xlink:href=\"#DejaVuSans-48\"/>\r\n       <use x=\"190.869141\" xlink:href=\"#DejaVuSans-48\"/>\r\n       <use x=\"254.492188\" xlink:href=\"#DejaVuSans-48\"/>\r\n      </g>\r\n     </g>\r\n    </g>\r\n    <g id=\"ytick_4\">\r\n     <g id=\"line2d_17\">\r\n      <path clip-path=\"url(#p21007b806c)\" d=\"M 52.375 112.241378 \r\nL 387.175 112.241378 \r\n\" style=\"fill:none;stroke:#b0b0b0;stroke-linecap:square;stroke-width:0.8;\"/>\r\n     </g>\r\n     <g id=\"line2d_18\">\r\n      <g>\r\n       <use style=\"stroke:#000000;stroke-width:0.8;\" x=\"52.375\" xlink:href=\"#mfbf4d38b4b\" y=\"112.241378\"/>\r\n      </g>\r\n     </g>\r\n     <g id=\"text_9\">\r\n      <!-- 60000 -->\r\n      <g transform=\"translate(13.5625 116.040597)scale(0.1 -0.1)\">\r\n       <use xlink:href=\"#DejaVuSans-54\"/>\r\n       <use x=\"63.623047\" xlink:href=\"#DejaVuSans-48\"/>\r\n       <use x=\"127.246094\" xlink:href=\"#DejaVuSans-48\"/>\r\n       <use x=\"190.869141\" xlink:href=\"#DejaVuSans-48\"/>\r\n       <use x=\"254.492188\" xlink:href=\"#DejaVuSans-48\"/>\r\n      </g>\r\n     </g>\r\n    </g>\r\n    <g id=\"ytick_5\">\r\n     <g id=\"line2d_19\">\r\n      <path clip-path=\"url(#p21007b806c)\" d=\"M 52.375 69.847046 \r\nL 387.175 69.847046 \r\n\" style=\"fill:none;stroke:#b0b0b0;stroke-linecap:square;stroke-width:0.8;\"/>\r\n     </g>\r\n     <g id=\"line2d_20\">\r\n      <g>\r\n       <use style=\"stroke:#000000;stroke-width:0.8;\" x=\"52.375\" xlink:href=\"#mfbf4d38b4b\" y=\"69.847046\"/>\r\n      </g>\r\n     </g>\r\n     <g id=\"text_10\">\r\n      <!-- 80000 -->\r\n      <g transform=\"translate(13.5625 73.646265)scale(0.1 -0.1)\">\r\n       <use xlink:href=\"#DejaVuSans-56\"/>\r\n       <use x=\"63.623047\" xlink:href=\"#DejaVuSans-48\"/>\r\n       <use x=\"127.246094\" xlink:href=\"#DejaVuSans-48\"/>\r\n       <use x=\"190.869141\" xlink:href=\"#DejaVuSans-48\"/>\r\n       <use x=\"254.492188\" xlink:href=\"#DejaVuSans-48\"/>\r\n      </g>\r\n     </g>\r\n    </g>\r\n    <g id=\"ytick_6\">\r\n     <g id=\"line2d_21\">\r\n      <path clip-path=\"url(#p21007b806c)\" d=\"M 52.375 27.452714 \r\nL 387.175 27.452714 \r\n\" style=\"fill:none;stroke:#b0b0b0;stroke-linecap:square;stroke-width:0.8;\"/>\r\n     </g>\r\n     <g id=\"line2d_22\">\r\n      <g>\r\n       <use style=\"stroke:#000000;stroke-width:0.8;\" x=\"52.375\" xlink:href=\"#mfbf4d38b4b\" y=\"27.452714\"/>\r\n      </g>\r\n     </g>\r\n     <g id=\"text_11\">\r\n      <!-- 100000 -->\r\n      <g transform=\"translate(7.2 31.251933)scale(0.1 -0.1)\">\r\n       <defs>\r\n        <path d=\"M 12.40625 8.296875 \r\nL 28.515625 8.296875 \r\nL 28.515625 63.921875 \r\nL 10.984375 60.40625 \r\nL 10.984375 69.390625 \r\nL 28.421875 72.90625 \r\nL 38.28125 72.90625 \r\nL 38.28125 8.296875 \r\nL 54.390625 8.296875 \r\nL 54.390625 0 \r\nL 12.40625 0 \r\nz\r\n\" id=\"DejaVuSans-49\"/>\r\n       </defs>\r\n       <use xlink:href=\"#DejaVuSans-49\"/>\r\n       <use x=\"63.623047\" xlink:href=\"#DejaVuSans-48\"/>\r\n       <use x=\"127.246094\" xlink:href=\"#DejaVuSans-48\"/>\r\n       <use x=\"190.869141\" xlink:href=\"#DejaVuSans-48\"/>\r\n       <use x=\"254.492188\" xlink:href=\"#DejaVuSans-48\"/>\r\n       <use x=\"318.115234\" xlink:href=\"#DejaVuSans-48\"/>\r\n      </g>\r\n     </g>\r\n    </g>\r\n   </g>\r\n   <g id=\"patch_4\">\r\n    <path d=\"M 52.375 239.424375 \r\nL 52.375 21.984375 \r\n\" style=\"fill:none;stroke:#000000;stroke-linecap:square;stroke-linejoin:miter;stroke-width:0.8;\"/>\r\n   </g>\r\n   <g id=\"patch_5\">\r\n    <path d=\"M 387.175 239.424375 \r\nL 387.175 21.984375 \r\n\" style=\"fill:none;stroke:#000000;stroke-linecap:square;stroke-linejoin:miter;stroke-width:0.8;\"/>\r\n   </g>\r\n   <g id=\"patch_6\">\r\n    <path d=\"M 52.375 239.424375 \r\nL 387.175 239.424375 \r\n\" style=\"fill:none;stroke:#000000;stroke-linecap:square;stroke-linejoin:miter;stroke-width:0.8;\"/>\r\n   </g>\r\n   <g id=\"patch_7\">\r\n    <path d=\"M 52.375 21.984375 \r\nL 387.175 21.984375 \r\n\" style=\"fill:none;stroke:#000000;stroke-linecap:square;stroke-linejoin:miter;stroke-width:0.8;\"/>\r\n   </g>\r\n   <g id=\"text_12\">\r\n    <!-- DRIFT_TIME -->\r\n    <g transform=\"translate(184.8025 15.984375)scale(0.12 -0.12)\">\r\n     <defs>\r\n      <path d=\"M 19.671875 64.796875 \r\nL 19.671875 8.109375 \r\nL 31.59375 8.109375 \r\nQ 46.6875 8.109375 53.6875 14.9375 \r\nQ 60.6875 21.78125 60.6875 36.53125 \r\nQ 60.6875 51.171875 53.6875 57.984375 \r\nQ 46.6875 64.796875 31.59375 64.796875 \r\nz\r\nM 9.8125 72.90625 \r\nL 30.078125 72.90625 \r\nQ 51.265625 72.90625 61.171875 64.09375 \r\nQ 71.09375 55.28125 71.09375 36.53125 \r\nQ 71.09375 17.671875 61.125 8.828125 \r\nQ 51.171875 0 30.078125 0 \r\nL 9.8125 0 \r\nz\r\n\" id=\"DejaVuSans-68\"/>\r\n      <path d=\"M 44.390625 34.1875 \r\nQ 47.5625 33.109375 50.5625 29.59375 \r\nQ 53.5625 26.078125 56.59375 19.921875 \r\nL 66.609375 0 \r\nL 56 0 \r\nL 46.6875 18.703125 \r\nQ 43.0625 26.03125 39.671875 28.421875 \r\nQ 36.28125 30.8125 30.421875 30.8125 \r\nL 19.671875 30.8125 \r\nL 19.671875 0 \r\nL 9.8125 0 \r\nL 9.8125 72.90625 \r\nL 32.078125 72.90625 \r\nQ 44.578125 72.90625 50.734375 67.671875 \r\nQ 56.890625 62.453125 56.890625 51.90625 \r\nQ 56.890625 45.015625 53.6875 40.46875 \r\nQ 50.484375 35.9375 44.390625 34.1875 \r\nz\r\nM 19.671875 64.796875 \r\nL 19.671875 38.921875 \r\nL 32.078125 38.921875 \r\nQ 39.203125 38.921875 42.84375 42.21875 \r\nQ 46.484375 45.515625 46.484375 51.90625 \r\nQ 46.484375 58.296875 42.84375 61.546875 \r\nQ 39.203125 64.796875 32.078125 64.796875 \r\nz\r\n\" id=\"DejaVuSans-82\"/>\r\n      <path d=\"M 9.8125 72.90625 \r\nL 19.671875 72.90625 \r\nL 19.671875 0 \r\nL 9.8125 0 \r\nz\r\n\" id=\"DejaVuSans-73\"/>\r\n      <path d=\"M 9.8125 72.90625 \r\nL 51.703125 72.90625 \r\nL 51.703125 64.59375 \r\nL 19.671875 64.59375 \r\nL 19.671875 43.109375 \r\nL 48.578125 43.109375 \r\nL 48.578125 34.8125 \r\nL 19.671875 34.8125 \r\nL 19.671875 0 \r\nL 9.8125 0 \r\nz\r\n\" id=\"DejaVuSans-70\"/>\r\n      <path d=\"M -0.296875 72.90625 \r\nL 61.375 72.90625 \r\nL 61.375 64.59375 \r\nL 35.5 64.59375 \r\nL 35.5 0 \r\nL 25.59375 0 \r\nL 25.59375 64.59375 \r\nL -0.296875 64.59375 \r\nz\r\n\" id=\"DejaVuSans-84\"/>\r\n      <path d=\"M 50.984375 -16.609375 \r\nL 50.984375 -23.578125 \r\nL -0.984375 -23.578125 \r\nL -0.984375 -16.609375 \r\nz\r\n\" id=\"DejaVuSans-95\"/>\r\n      <path d=\"M 9.8125 72.90625 \r\nL 24.515625 72.90625 \r\nL 43.109375 23.296875 \r\nL 61.8125 72.90625 \r\nL 76.515625 72.90625 \r\nL 76.515625 0 \r\nL 66.890625 0 \r\nL 66.890625 64.015625 \r\nL 48.09375 14.015625 \r\nL 38.1875 14.015625 \r\nL 19.390625 64.015625 \r\nL 19.390625 0 \r\nL 9.8125 0 \r\nz\r\n\" id=\"DejaVuSans-77\"/>\r\n      <path d=\"M 9.8125 72.90625 \r\nL 55.90625 72.90625 \r\nL 55.90625 64.59375 \r\nL 19.671875 64.59375 \r\nL 19.671875 43.015625 \r\nL 54.390625 43.015625 \r\nL 54.390625 34.71875 \r\nL 19.671875 34.71875 \r\nL 19.671875 8.296875 \r\nL 56.78125 8.296875 \r\nL 56.78125 0 \r\nL 9.8125 0 \r\nz\r\n\" id=\"DejaVuSans-69\"/>\r\n     </defs>\r\n     <use xlink:href=\"#DejaVuSans-68\"/>\r\n     <use x=\"77.001953\" xlink:href=\"#DejaVuSans-82\"/>\r\n     <use x=\"146.484375\" xlink:href=\"#DejaVuSans-73\"/>\r\n     <use x=\"175.976562\" xlink:href=\"#DejaVuSans-70\"/>\r\n     <use x=\"231.746094\" xlink:href=\"#DejaVuSans-84\"/>\r\n     <use x=\"292.830078\" xlink:href=\"#DejaVuSans-95\"/>\r\n     <use x=\"342.830078\" xlink:href=\"#DejaVuSans-84\"/>\r\n     <use x=\"403.914062\" xlink:href=\"#DejaVuSans-73\"/>\r\n     <use x=\"433.40625\" xlink:href=\"#DejaVuSans-77\"/>\r\n     <use x=\"519.685547\" xlink:href=\"#DejaVuSans-69\"/>\r\n    </g>\r\n   </g>\r\n  </g>\r\n </g>\r\n <defs>\r\n  <clipPath id=\"p21007b806c\">\r\n   <rect height=\"217.44\" width=\"334.8\" x=\"52.375\" y=\"21.984375\"/>\r\n  </clipPath>\r\n </defs>\r\n</svg>\r\n",
      "image/png": "[encoded data removed]"
     },
     "metadata": {
      "needs_background": "light"
     }
    }
   ],
   "source": [
    "#df.hist(column = 'DRIFT_TIME',bins=5);"
   ]
  }
 ]
}